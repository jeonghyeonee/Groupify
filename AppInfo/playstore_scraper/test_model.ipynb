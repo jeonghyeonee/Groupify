{
 "cells": [
  {
   "cell_type": "code",
   "execution_count": 38,
   "metadata": {},
   "outputs": [],
   "source": [
    "import joblib\n",
    "\n",
    "# 1. 임베딩된 벡터 불러오기 (이미 저장된 임베딩 파일)\n",
    "app_embeddings = joblib.load('app_embeddings.pkl')\n",
    "\n",
    "# 2. 저장된 K-Means 모델 불러오기\n",
    "kmeans = joblib.load('kmeans_model.pkl')"
   ]
  },
  {
   "cell_type": "code",
   "execution_count": 39,
   "metadata": {},
   "outputs": [
    {
     "name": "stdout",
     "output_type": "stream",
     "text": [
      "임베딩된 데이터 크기: (2, 384)\n"
     ]
    }
   ],
   "source": [
    "# 임베딩 벡터와 K-Means 모델이 올바르게 로드되었는지 확인\n",
    "print(f\"임베딩된 데이터 크기: {app_embeddings.shape}\")"
   ]
  },
  {
   "cell_type": "code",
   "execution_count": 40,
   "metadata": {},
   "outputs": [],
   "source": [
    "from sentence_transformers import SentenceTransformer\n",
    "\n",
    "# 3. Sentence-BERT 모델 로드 (추출할 때 사용한 동일한 모델 사용)\n",
    "model = SentenceTransformer('all-MiniLM-L6-v2')\n",
    "\n",
    "# 4. 새로운 텍스트 데이터 임베딩 (예: 새로운 앱 설명)\n",
    "new_app_descriptions = [\"Facebook is Social Network Application\"]\n",
    "new_app_embeddings = model.encode(new_app_descriptions)"
   ]
  },
  {
   "cell_type": "code",
   "execution_count": 41,
   "metadata": {},
   "outputs": [
    {
     "name": "stdout",
     "output_type": "stream",
     "text": [
      "새로운 데이터 임베딩 크기: (1, 384)\n"
     ]
    }
   ],
   "source": [
    "# 새로운 임베딩 크기 확인\n",
    "print(f\"새로운 데이터 임베딩 크기: {new_app_embeddings.shape}\")"
   ]
  },
  {
   "cell_type": "code",
   "execution_count": 43,
   "metadata": {},
   "outputs": [
    {
     "name": "stdout",
     "output_type": "stream",
     "text": [
      "결합된 임베딩 크기: (3, 384)\n"
     ]
    }
   ],
   "source": [
    "import numpy as np\n",
    "\n",
    "# 기존 임베딩과 새로운 임베딩을 결합\n",
    "combined_embeddings = np.vstack((app_embeddings, new_app_embeddings))\n",
    "\n",
    "# 결합된 임베딩 크기 확인\n",
    "print(f\"결합된 임베딩 크기: {combined_embeddings.shape}\")"
   ]
  },
  {
   "cell_type": "code",
   "execution_count": 44,
   "metadata": {},
   "outputs": [
    {
     "name": "stderr",
     "output_type": "stream",
     "text": [
      "c:\\Users\\user\\AppData\\Local\\Programs\\Python\\Python38\\lib\\site-packages\\sklearn\\cluster\\_kmeans.py:1416: FutureWarning: The default value of `n_init` will change from 10 to 'auto' in 1.4. Set the value of `n_init` explicitly to suppress the warning\n",
      "  super()._check_params_vs_input(X, default_n_init=10)\n"
     ]
    },
    {
     "name": "stdout",
     "output_type": "stream",
     "text": [
      "[0 0 1]\n"
     ]
    }
   ],
   "source": [
    "# 결합된 임베딩으로 K-Means 모델을 다시 학습시키거나 클러스터링 수행\n",
    "kmeans.fit(combined_embeddings)\n",
    "\n",
    "# 클러스터링 결과 확인\n",
    "print(kmeans.labels_)"
   ]
  },
  {
   "cell_type": "code",
   "execution_count": 45,
   "metadata": {},
   "outputs": [],
   "source": [
    "descriptions = [\n",
    "    \"카카오톡은 무료 메시징 앱입니다.\",\n",
    "    \"네이버는 한국의 대표 포털 사이트입니다.\"\n",
    "]"
   ]
  },
  {
   "cell_type": "code",
   "execution_count": 46,
   "metadata": {},
   "outputs": [
    {
     "name": "stdout",
     "output_type": "stream",
     "text": [
      "(2, 384)\n"
     ]
    }
   ],
   "source": [
    "\n",
    "# Sentence-BERT로 임베딩 생성\n",
    "embeddings = model.encode(descriptions)\n",
    "\n",
    "# 임베딩된 데이터 크기 확인\n",
    "print(embeddings.shape)  # (2, 384)"
   ]
  },
  {
   "cell_type": "code",
   "execution_count": 47,
   "metadata": {},
   "outputs": [
    {
     "name": "stdout",
     "output_type": "stream",
     "text": [
      "   Rank                          App ID                           Name  \\\n",
      "0     1  com.ss.android.ugc.tiktok.lite                    TikTok Lite   \n",
      "1     2                      kr.or.nhiq                      모바일 건강보험증   \n",
      "2     3            com.einnovation.temu  Temu: Shop Like a Billionaire   \n",
      "3     4         com.instagram.barcelona      Threads, an Instagram app   \n",
      "4     5                com.kakaopay.app                          카카오페이   \n",
      "\n",
      "                  Category                                        Description  \\\n",
      "0  Video Players & Editors  TikTok Lite is a global video community that i...   \n",
      "1         Health & Fitness  1. The mobile health insurance card app is a p...   \n",
      "2                 Shopping  Shop on Temu for exclusive offers. \\n\\nNo matt...   \n",
      "3                   Social  Say more with Threads — Instagram’s text-based...   \n",
      "4                  Finance  With Kakao Pay\\nSo that everyone can finance\\n...   \n",
      "\n",
      "                                            Icon URL  \n",
      "0  https://play-lh.googleusercontent.com/0mrWcoPN...  \n",
      "1  https://play-lh.googleusercontent.com/zjXgJuwE...  \n",
      "2  https://play-lh.googleusercontent.com/9v08ai07...  \n",
      "3  https://play-lh.googleusercontent.com/G6jK9S77...  \n",
      "4  https://play-lh.googleusercontent.com/W43xj43E...  \n"
     ]
    }
   ],
   "source": [
    "import pandas as pd\n",
    "from sentence_transformers import SentenceTransformer\n",
    "\n",
    "# 1. CSV 파일에서 앱 설명 데이터 불러오기\n",
    "file_path = 'Free_apps.csv'  # CSV 파일 경로\n",
    "apps_data = pd.read_csv(file_path)\n",
    "\n",
    "# 2. 데이터 확인 (Description 열이 있는지 확인)\n",
    "print(apps_data.head())"
   ]
  },
  {
   "cell_type": "code",
   "execution_count": 48,
   "metadata": {},
   "outputs": [
    {
     "name": "stderr",
     "output_type": "stream",
     "text": [
      "c:\\Users\\user\\AppData\\Local\\Programs\\Python\\Python38\\lib\\site-packages\\transformers\\tokenization_utils_base.py:1617: FutureWarning: `clean_up_tokenization_spaces` was not set. It will be set to `True` by default. This behavior will be deprecated in transformers v4.45, and will be then set to `False` by default. For more details check this issue: https://github.com/huggingface/transformers/issues/31884\n",
      "  warnings.warn(\n"
     ]
    }
   ],
   "source": [
    "# 3. Sentence-BERT 모델 로드\n",
    "model = SentenceTransformer('all-MiniLM-L6-v2')\n"
   ]
  },
  {
   "cell_type": "code",
   "execution_count": 49,
   "metadata": {},
   "outputs": [],
   "source": [
    "# 4. 앱 설명을 임베딩 (Description 열을 사용)\n",
    "app_descriptions = apps_data['Description'].tolist()  # 앱 설명을 리스트로 변환\n",
    "embeddings = model.encode(app_descriptions)  # 임베딩 생성"
   ]
  },
  {
   "cell_type": "code",
   "execution_count": 50,
   "metadata": {},
   "outputs": [
    {
     "name": "stdout",
     "output_type": "stream",
     "text": [
      "임베딩된 데이터 크기: (100, 384)\n"
     ]
    }
   ],
   "source": [
    "# 임베딩 차원 확인\n",
    "print(f\"임베딩된 데이터 크기: {embeddings.shape}\")"
   ]
  },
  {
   "cell_type": "code",
   "execution_count": 51,
   "metadata": {},
   "outputs": [
    {
     "name": "stdout",
     "output_type": "stream",
     "text": [
      "   Rank                          App ID                           Name  \\\n",
      "0     1  com.ss.android.ugc.tiktok.lite                    TikTok Lite   \n",
      "1     2                      kr.or.nhiq                      모바일 건강보험증   \n",
      "2     3            com.einnovation.temu  Temu: Shop Like a Billionaire   \n",
      "3     4         com.instagram.barcelona      Threads, an Instagram app   \n",
      "4     5                com.kakaopay.app                          카카오페이   \n",
      "\n",
      "                  Category                                        Description  \\\n",
      "0  Video Players & Editors  TikTok Lite is a global video community that i...   \n",
      "1         Health & Fitness  1. The mobile health insurance card app is a p...   \n",
      "2                 Shopping  Shop on Temu for exclusive offers. \\n\\nNo matt...   \n",
      "3                   Social  Say more with Threads — Instagram’s text-based...   \n",
      "4                  Finance  With Kakao Pay\\nSo that everyone can finance\\n...   \n",
      "\n",
      "                                            Icon URL         0         1  \\\n",
      "0  https://play-lh.googleusercontent.com/0mrWcoPN... -0.036924 -0.019858   \n",
      "1  https://play-lh.googleusercontent.com/zjXgJuwE... -0.073383  0.090302   \n",
      "2  https://play-lh.googleusercontent.com/9v08ai07... -0.059035 -0.025446   \n",
      "3  https://play-lh.googleusercontent.com/G6jK9S77... -0.053903 -0.108001   \n",
      "4  https://play-lh.googleusercontent.com/W43xj43E... -0.110395  0.078354   \n",
      "\n",
      "          2         3  ...       374       375       376       377       378  \\\n",
      "0  0.056862 -0.012458  ...  0.024775  0.070612  0.007864  0.091004 -0.012720   \n",
      "1 -0.011057 -0.062628  ... -0.086897  0.019230  0.052292 -0.046831  0.036557   \n",
      "2  0.009730 -0.006788  ... -0.005020  0.013825 -0.091955  0.017203  0.070889   \n",
      "3  0.025077 -0.015992  ...  0.048835  0.017946 -0.015656  0.073986  0.056532   \n",
      "4 -0.032069 -0.009810  ...  0.032065 -0.028512  0.095791  0.014041  0.020554   \n",
      "\n",
      "        379       380       381       382       383  \n",
      "0  0.066125  0.065609  0.006548  0.006494  0.044015  \n",
      "1  0.056094  0.051805  0.046143  0.065130 -0.021688  \n",
      "2  0.023547  0.034552 -0.026241 -0.084626  0.003049  \n",
      "3  0.057386  0.109112  0.087692 -0.079747 -0.004760  \n",
      "4  0.081091  0.088618 -0.104143 -0.033006  0.009622  \n",
      "\n",
      "[5 rows x 390 columns]\n"
     ]
    }
   ],
   "source": [
    "import numpy as np\n",
    "\n",
    "# 5. 임베딩 결과를 데이터프레임에 추가\n",
    "# 임베딩 결과는 각 앱 설명에 해당하는 384차원 벡터입니다\n",
    "embeddings_df = pd.DataFrame(embeddings)\n",
    "\n",
    "# 6. 원본 데이터에 임베딩 벡터 추가 (임베딩 벡터를 각 열로 추가)\n",
    "result_df = pd.concat([apps_data, embeddings_df], axis=1)\n",
    "\n",
    "# 7. 결과 확인 (임베딩 벡터가 추가된 결과)\n",
    "print(result_df.head())"
   ]
  },
  {
   "cell_type": "code",
   "execution_count": 52,
   "metadata": {},
   "outputs": [
    {
     "name": "stdout",
     "output_type": "stream",
     "text": [
      "임베딩된 데이터가 'embedded_apps_data.csv'로 저장되었습니다.\n"
     ]
    }
   ],
   "source": [
    "# 8. 임베딩 결과를 포함한 데이터프레임을 CSV 파일로 저장\n",
    "result_df.to_csv('embedded_apps_data.csv', index=False)\n",
    "\n",
    "# 저장된 CSV 파일 확인\n",
    "print(\"임베딩된 데이터가 'embedded_apps_data.csv'로 저장되었습니다.\")"
   ]
  },
  {
   "cell_type": "code",
   "execution_count": 58,
   "metadata": {},
   "outputs": [],
   "source": [
    "import pandas as pd\n",
    "\n",
    "# 1. CSV 파일에서 데이터 불러오기\n",
    "file_path = 'embedded_apps_data.csv'  # CSV 파일 경로\n",
    "apps_data = pd.read_csv(file_path)"
   ]
  },
  {
   "cell_type": "code",
   "execution_count": 63,
   "metadata": {},
   "outputs": [],
   "source": [
    "# 2. 임베딩 벡터 추출 (0~378번 열이 임베딩 벡터)\n",
    "embedding_columns = [str(i) for i in range(384)]  # 임베딩 벡터 열 이름 (0~378)\n",
    "embeddings = apps_data[embedding_columns].values  # 임베딩 벡터 추출\n"
   ]
  },
  {
   "cell_type": "code",
   "execution_count": 76,
   "metadata": {},
   "outputs": [
    {
     "name": "stdout",
     "output_type": "stream",
     "text": [
      "임베딩 데이터 타입: float64\n",
      "임베딩 데이터 크기: (100, 384)\n"
     ]
    }
   ],
   "source": [
    "# 데이터 형식과 차원 확인\n",
    "print(f\"임베딩 데이터 타입: {embeddings.dtype}\")  # float64 확인\n",
    "print(f\"임베딩 데이터 크기: {embeddings.shape}\")"
   ]
  },
  {
   "cell_type": "code",
   "execution_count": 77,
   "metadata": {},
   "outputs": [],
   "source": [
    "\n",
    "# 3. 저장된 K-Means 모델 불러오기\n",
    "kmeans = joblib.load('kmeans_model.pkl')"
   ]
  },
  {
   "cell_type": "code",
   "execution_count": 78,
   "metadata": {},
   "outputs": [
    {
     "name": "stdout",
     "output_type": "stream",
     "text": [
      "K-Means 모델 클러스터 중심 차원: (2, 384)\n"
     ]
    }
   ],
   "source": [
    "# 4. 모델이 기대하는 클러스터 중심의 차원 확인\n",
    "print(f\"K-Means 모델 클러스터 중심 차원: {kmeans.cluster_centers_.shape}\")\n"
   ]
  },
  {
   "cell_type": "code",
   "execution_count": 91,
   "metadata": {},
   "outputs": [],
   "source": [
    "kmeans.cluster_centers_=kmeans.cluster_centers_.astype(float)"
   ]
  },
  {
   "cell_type": "code",
   "execution_count": 80,
   "metadata": {},
   "outputs": [
    {
     "ename": "ValueError",
     "evalue": "Buffer dtype mismatch, expected 'const double' but got 'float'",
     "output_type": "error",
     "traceback": [
      "\u001b[1;31m---------------------------------------------------------------------------\u001b[0m",
      "\u001b[1;31mValueError\u001b[0m                                Traceback (most recent call last)",
      "Cell \u001b[1;32mIn[80], line 2\u001b[0m\n\u001b[0;32m      1\u001b[0m \u001b[38;5;66;03m# 5. 클러스터링 수행\u001b[39;00m\n\u001b[1;32m----> 2\u001b[0m clusters \u001b[38;5;241m=\u001b[39m \u001b[43mkmeans\u001b[49m\u001b[38;5;241;43m.\u001b[39;49m\u001b[43mpredict\u001b[49m\u001b[43m(\u001b[49m\u001b[43membeddings\u001b[49m\u001b[43m)\u001b[49m\n",
      "File \u001b[1;32mc:\\Users\\user\\AppData\\Local\\Programs\\Python\\Python38\\lib\\site-packages\\sklearn\\cluster\\_kmeans.py:1111\u001b[0m, in \u001b[0;36m_BaseKMeans.predict\u001b[1;34m(self, X, sample_weight)\u001b[0m\n\u001b[0;32m   1108\u001b[0m \u001b[38;5;28;01melse\u001b[39;00m:\n\u001b[0;32m   1109\u001b[0m     sample_weight \u001b[38;5;241m=\u001b[39m _check_sample_weight(\u001b[38;5;28;01mNone\u001b[39;00m, X, dtype\u001b[38;5;241m=\u001b[39mX\u001b[38;5;241m.\u001b[39mdtype)\n\u001b[1;32m-> 1111\u001b[0m labels \u001b[38;5;241m=\u001b[39m \u001b[43m_labels_inertia_threadpool_limit\u001b[49m\u001b[43m(\u001b[49m\n\u001b[0;32m   1112\u001b[0m \u001b[43m    \u001b[49m\u001b[43mX\u001b[49m\u001b[43m,\u001b[49m\n\u001b[0;32m   1113\u001b[0m \u001b[43m    \u001b[49m\u001b[43msample_weight\u001b[49m\u001b[43m,\u001b[49m\n\u001b[0;32m   1114\u001b[0m \u001b[43m    \u001b[49m\u001b[38;5;28;43mself\u001b[39;49m\u001b[38;5;241;43m.\u001b[39;49m\u001b[43mcluster_centers_\u001b[49m\u001b[43m,\u001b[49m\n\u001b[0;32m   1115\u001b[0m \u001b[43m    \u001b[49m\u001b[43mn_threads\u001b[49m\u001b[38;5;241;43m=\u001b[39;49m\u001b[38;5;28;43mself\u001b[39;49m\u001b[38;5;241;43m.\u001b[39;49m\u001b[43m_n_threads\u001b[49m\u001b[43m,\u001b[49m\n\u001b[0;32m   1116\u001b[0m \u001b[43m    \u001b[49m\u001b[43mreturn_inertia\u001b[49m\u001b[38;5;241;43m=\u001b[39;49m\u001b[38;5;28;43;01mFalse\u001b[39;49;00m\u001b[43m,\u001b[49m\n\u001b[0;32m   1117\u001b[0m \u001b[43m\u001b[49m\u001b[43m)\u001b[49m\n\u001b[0;32m   1119\u001b[0m \u001b[38;5;28;01mreturn\u001b[39;00m labels\n",
      "File \u001b[1;32mc:\\Users\\user\\AppData\\Local\\Programs\\Python\\Python38\\lib\\site-packages\\sklearn\\cluster\\_kmeans.py:820\u001b[0m, in \u001b[0;36m_labels_inertia_threadpool_limit\u001b[1;34m(X, sample_weight, centers, n_threads, return_inertia)\u001b[0m\n\u001b[0;32m    818\u001b[0m \u001b[38;5;250m\u001b[39m\u001b[38;5;124;03m\"\"\"Same as _labels_inertia but in a threadpool_limits context.\"\"\"\u001b[39;00m\n\u001b[0;32m    819\u001b[0m \u001b[38;5;28;01mwith\u001b[39;00m threadpool_limits(limits\u001b[38;5;241m=\u001b[39m\u001b[38;5;241m1\u001b[39m, user_api\u001b[38;5;241m=\u001b[39m\u001b[38;5;124m\"\u001b[39m\u001b[38;5;124mblas\u001b[39m\u001b[38;5;124m\"\u001b[39m):\n\u001b[1;32m--> 820\u001b[0m     result \u001b[38;5;241m=\u001b[39m \u001b[43m_labels_inertia\u001b[49m\u001b[43m(\u001b[49m\u001b[43mX\u001b[49m\u001b[43m,\u001b[49m\u001b[43m \u001b[49m\u001b[43msample_weight\u001b[49m\u001b[43m,\u001b[49m\u001b[43m \u001b[49m\u001b[43mcenters\u001b[49m\u001b[43m,\u001b[49m\u001b[43m \u001b[49m\u001b[43mn_threads\u001b[49m\u001b[43m,\u001b[49m\u001b[43m \u001b[49m\u001b[43mreturn_inertia\u001b[49m\u001b[43m)\u001b[49m\n\u001b[0;32m    822\u001b[0m \u001b[38;5;28;01mreturn\u001b[39;00m result\n",
      "File \u001b[1;32mc:\\Users\\user\\AppData\\Local\\Programs\\Python\\Python38\\lib\\site-packages\\sklearn\\cluster\\_kmeans.py:796\u001b[0m, in \u001b[0;36m_labels_inertia\u001b[1;34m(X, sample_weight, centers, n_threads, return_inertia)\u001b[0m\n\u001b[0;32m    793\u001b[0m     _labels \u001b[38;5;241m=\u001b[39m lloyd_iter_chunked_dense\n\u001b[0;32m    794\u001b[0m     _inertia \u001b[38;5;241m=\u001b[39m _inertia_dense\n\u001b[1;32m--> 796\u001b[0m \u001b[43m_labels\u001b[49m\u001b[43m(\u001b[49m\n\u001b[0;32m    797\u001b[0m \u001b[43m    \u001b[49m\u001b[43mX\u001b[49m\u001b[43m,\u001b[49m\n\u001b[0;32m    798\u001b[0m \u001b[43m    \u001b[49m\u001b[43msample_weight\u001b[49m\u001b[43m,\u001b[49m\n\u001b[0;32m    799\u001b[0m \u001b[43m    \u001b[49m\u001b[43mcenters\u001b[49m\u001b[43m,\u001b[49m\n\u001b[0;32m    800\u001b[0m \u001b[43m    \u001b[49m\u001b[43mcenters_new\u001b[49m\u001b[38;5;241;43m=\u001b[39;49m\u001b[38;5;28;43;01mNone\u001b[39;49;00m\u001b[43m,\u001b[49m\n\u001b[0;32m    801\u001b[0m \u001b[43m    \u001b[49m\u001b[43mweight_in_clusters\u001b[49m\u001b[38;5;241;43m=\u001b[39;49m\u001b[38;5;28;43;01mNone\u001b[39;49;00m\u001b[43m,\u001b[49m\n\u001b[0;32m    802\u001b[0m \u001b[43m    \u001b[49m\u001b[43mlabels\u001b[49m\u001b[38;5;241;43m=\u001b[39;49m\u001b[43mlabels\u001b[49m\u001b[43m,\u001b[49m\n\u001b[0;32m    803\u001b[0m \u001b[43m    \u001b[49m\u001b[43mcenter_shift\u001b[49m\u001b[38;5;241;43m=\u001b[39;49m\u001b[43mcenter_shift\u001b[49m\u001b[43m,\u001b[49m\n\u001b[0;32m    804\u001b[0m \u001b[43m    \u001b[49m\u001b[43mn_threads\u001b[49m\u001b[38;5;241;43m=\u001b[39;49m\u001b[43mn_threads\u001b[49m\u001b[43m,\u001b[49m\n\u001b[0;32m    805\u001b[0m \u001b[43m    \u001b[49m\u001b[43mupdate_centers\u001b[49m\u001b[38;5;241;43m=\u001b[39;49m\u001b[38;5;28;43;01mFalse\u001b[39;49;00m\u001b[43m,\u001b[49m\n\u001b[0;32m    806\u001b[0m \u001b[43m\u001b[49m\u001b[43m)\u001b[49m\n\u001b[0;32m    808\u001b[0m \u001b[38;5;28;01mif\u001b[39;00m return_inertia:\n\u001b[0;32m    809\u001b[0m     inertia \u001b[38;5;241m=\u001b[39m _inertia(X, sample_weight, centers, labels, n_threads)\n",
      "File \u001b[1;32msklearn\\cluster\\_k_means_lloyd.pyx:26\u001b[0m, in \u001b[0;36msklearn.cluster._k_means_lloyd.lloyd_iter_chunked_dense\u001b[1;34m()\u001b[0m\n",
      "\u001b[1;31mValueError\u001b[0m: Buffer dtype mismatch, expected 'const double' but got 'float'"
     ]
    }
   ],
   "source": [
    "# 3. 저장된 K-Means 모델 불러오기\n",
    "kmeans = joblib.load('kmeans_model.pkl')  # K-Means 모델 파일 경로\n"
   ]
  },
  {
   "cell_type": "code",
   "execution_count": 85,
   "metadata": {},
   "outputs": [
    {
     "data": {
      "text/plain": [
       "dtype('float64')"
      ]
     },
     "execution_count": 85,
     "metadata": {},
     "output_type": "execute_result"
    }
   ],
   "source": [
    "embeddings.astype(\"double\").dtype"
   ]
  },
  {
   "cell_type": "code",
   "execution_count": 92,
   "metadata": {},
   "outputs": [
    {
     "ename": "",
     "evalue": "",
     "output_type": "error",
     "traceback": [
      "\u001b[1;31mThe Kernel crashed while executing code in the current cell or a previous cell. \n",
      "\u001b[1;31mPlease review the code in the cell(s) to identify a possible cause of the failure. \n",
      "\u001b[1;31mClick <a href='https://aka.ms/vscodeJupyterKernelCrash'>here</a> for more info. \n",
      "\u001b[1;31mView Jupyter <a href='command:jupyter.viewOutput'>log</a> for further details."
     ]
    }
   ],
   "source": [
    "clusters = kmeans.predict(embeddings[:3,:])"
   ]
  },
  {
   "cell_type": "code",
   "execution_count": 75,
   "metadata": {},
   "outputs": [
    {
     "name": "stdout",
     "output_type": "stream",
     "text": [
      "float64\n",
      "(100, 384)\n"
     ]
    }
   ],
   "source": [
    ":print(embeddings.dtype)  # dtype이 float64이어야 합니다.\n",
    "print(embeddings.shape)  # 임베딩 데이터 크기 확인"
   ]
  },
  {
   "cell_type": "code",
   "execution_count": null,
   "metadata": {},
   "outputs": [],
   "source": []
  }
 ],
 "metadata": {
  "kernelspec": {
   "display_name": "Python 3",
   "language": "python",
   "name": "python3"
  },
  "language_info": {
   "codemirror_mode": {
    "name": "ipython",
    "version": 3
   },
   "file_extension": ".py",
   "mimetype": "text/x-python",
   "name": "python",
   "nbconvert_exporter": "python",
   "pygments_lexer": "ipython3",
   "version": "3.8.0"
  }
 },
 "nbformat": 4,
 "nbformat_minor": 2
}
