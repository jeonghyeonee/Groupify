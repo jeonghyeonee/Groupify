{
 "cells": [
  {
   "cell_type": "code",
   "execution_count": 1,
   "metadata": {},
   "outputs": [
    {
     "name": "stderr",
     "output_type": "stream",
     "text": [
      "c:\\Users\\user\\AppData\\Local\\Programs\\Python\\Python38\\lib\\site-packages\\sentence_transformers\\cross_encoder\\CrossEncoder.py:13: TqdmWarning: IProgress not found. Please update jupyter and ipywidgets. See https://ipywidgets.readthedocs.io/en/stable/user_install.html\n",
      "  from tqdm.autonotebook import tqdm, trange\n"
     ]
    }
   ],
   "source": [
    "import pandas as pd\n",
    "from sentence_transformers import SentenceTransformer\n",
    "from sklearn.cluster import KMeans\n",
    "from sklearn.feature_extraction.text import TfidfVectorizer\n",
    "import numpy as np\n",
    "from nltk.corpus import wordnet\n",
    "from sklearn.cluster import AgglomerativeClustering\n",
    "from sklearn.metrics.pairwise import cosine_similarity\n",
    "from sklearn.feature_extraction import text\n",
    "from sklearn.metrics.pairwise import cosine_similarity\n",
    "from nltk.corpus import wordnet as wn"
   ]
  },
  {
   "cell_type": "code",
   "execution_count": 2,
   "metadata": {},
   "outputs": [
    {
     "name": "stderr",
     "output_type": "stream",
     "text": [
      "[nltk_data] Downloading package wordnet to\n",
      "[nltk_data]     C:\\Users\\user\\AppData\\Roaming\\nltk_data...\n",
      "[nltk_data]   Package wordnet is already up-to-date!\n"
     ]
    },
    {
     "data": {
      "text/plain": [
       "True"
      ]
     },
     "execution_count": 2,
     "metadata": {},
     "output_type": "execute_result"
    }
   ],
   "source": [
    "import nltk\n",
    "nltk.download('wordnet')"
   ]
  },
  {
   "cell_type": "code",
   "execution_count": 3,
   "metadata": {},
   "outputs": [
    {
     "name": "stderr",
     "output_type": "stream",
     "text": [
      "C:\\Users\\user\\AppData\\Local\\Temp\\ipykernel_7596\\3248333432.py:2: DtypeWarning: Columns (3,4,5) have mixed types. Specify dtype option on import or set low_memory=False.\n",
      "  apps_data = pd.read_csv('cleaned_apps_data.csv')\n"
     ]
    }
   ],
   "source": [
    "# CSV 파일에서 데이터 불러오기\n",
    "apps_data = pd.read_csv('cleaned_apps_data.csv')"
   ]
  },
  {
   "cell_type": "code",
   "execution_count": 4,
   "metadata": {},
   "outputs": [
    {
     "data": {
      "text/plain": [
       "Index(['appId', 'title', 'url', 'score', 'price', 'free', 'category',\n",
       "       'installs', 'description', 'icon'],\n",
       "      dtype='object')"
      ]
     },
     "execution_count": 4,
     "metadata": {},
     "output_type": "execute_result"
    }
   ],
   "source": [
    "apps_data.columns"
   ]
  },
  {
   "cell_type": "code",
   "execution_count": 5,
   "metadata": {},
   "outputs": [],
   "source": [
    "# 2. 앱 이름을 불용어 리스트로 처리\n",
    "app_names = apps_data['title'].apply(lambda x: x.lower()).tolist()  # 앱 이름을 소문자로 변환하여 리스트로 수집\n"
   ]
  },
  {
   "cell_type": "code",
   "execution_count": 6,
   "metadata": {},
   "outputs": [],
   "source": [
    "# 3. 추가적인 불용어 정의\n",
    "additional_stopwords = ['pdf', 'file', 'app', 'lite', 'application']"
   ]
  },
  {
   "cell_type": "code",
   "execution_count": 7,
   "metadata": {},
   "outputs": [],
   "source": [
    "# 4. 기본 불용어와 추가 불용어 결합\n",
    "stop_words = list(text.ENGLISH_STOP_WORDS.union(app_names).union(additional_stopwords))\n"
   ]
  },
  {
   "cell_type": "code",
   "execution_count": 8,
   "metadata": {},
   "outputs": [
    {
     "name": "stderr",
     "output_type": "stream",
     "text": [
      "c:\\Users\\user\\AppData\\Local\\Programs\\Python\\Python38\\lib\\site-packages\\transformers\\tokenization_utils_base.py:1617: FutureWarning: `clean_up_tokenization_spaces` was not set. It will be set to `True` by default. This behavior will be deprecated in transformers v4.45, and will be then set to `False` by default. For more details check this issue: https://github.com/huggingface/transformers/issues/31884\n",
      "  warnings.warn(\n"
     ]
    }
   ],
   "source": [
    "# 2. Sentence-BERT 모델 로드 및 문장 임베딩 생성\n",
    "model = SentenceTransformer('all-MiniLM-L6-v2')  # Sentence-BERT 모델\n",
    "embeddings = model.encode(apps_data['description'].values)  # 앱 설명에 대한 임베딩 생성\n"
   ]
  },
  {
   "cell_type": "code",
   "execution_count": 9,
   "metadata": {},
   "outputs": [
    {
     "name": "stderr",
     "output_type": "stream",
     "text": [
      "c:\\Users\\user\\AppData\\Local\\Programs\\Python\\Python38\\lib\\site-packages\\sklearn\\cluster\\_kmeans.py:1416: FutureWarning: The default value of `n_init` will change from 10 to 'auto' in 1.4. Set the value of `n_init` explicitly to suppress the warning\n",
      "  super()._check_params_vs_input(X, default_n_init=10)\n"
     ]
    }
   ],
   "source": [
    "# 3. K-Means 클러스터링 수행\n",
    "n_clusters = 4  # 클러스터 수 설정\n",
    "kmeans = KMeans(n_clusters=n_clusters, random_state=42)\n",
    "clusters = kmeans.fit_predict(embeddings)\n"
   ]
  },
  {
   "cell_type": "code",
   "execution_count": 10,
   "metadata": {},
   "outputs": [],
   "source": [
    "# 4. 클러스터 결과를 데이터프레임에 추가\n",
    "apps_data['Cluster'] = clusters\n",
    "\n"
   ]
  },
  {
   "cell_type": "code",
   "execution_count": 11,
   "metadata": {},
   "outputs": [
    {
     "name": "stderr",
     "output_type": "stream",
     "text": [
      "c:\\Users\\user\\AppData\\Local\\Programs\\Python\\Python38\\lib\\site-packages\\sklearn\\feature_extraction\\text.py:408: UserWarning: Your stop_words may be inconsistent with your preprocessing. Tokenizing the stop words generated tokens ['0260', '084', '10', '100', '100km', '10bii', '119', '12306', '129', '12c', '13', '15', '15min', '17', '170m', '18', '1960', '1a', '1dm', '1money', '1st', '1tl', '1v1', '200', '2000', '2020', '2023', '2024', '2025', '21', '22', '23andme', '24', '24go', '250', '2d', '2e', '2fa', '2go', '2nd', '2ndline', '2number', '2redbeans', '2steps', '30', '300', '309', '33', '339', '350', '360', '365', '3commas', '3d', '3e', '3fun', '3rd', '3some', '3v3', '3way', '42', '4biddenknowledge', '4k', '4x', '50', '500', '504', '53', '5d', '5e', '5g', '5k', '60', '608', '60mph', '616', '75', '7now', '7shifts', '80', '80s', '83', '84', '85', '85c', '90', '91', '98', '991', '99acres', '_happy', 'a3d', 'aa', 'aaad', 'aaptiv', 'aarp', 'aawireless', 'aba', 'abc', 'abcmouse', 'abcs', 'abide', 'abpv', 'abroad', 'abs', 'abyss', 'ac', 'academy', 'acar', 'acceleration', 'accent', 'accessory', 'account', 'accounting', 'accounts', 'aceable', 'acima', 'ack', 'acorn', 'acorns', 'acr', 'acres', 'acrobat', 'acrobits', 'acs', 'activity', 'activote', 'actual', 'ad', 'adaptedmind', 'adblock', 'adblocker', 'add', 'addition', 'addon', 'addons', 'adesa', 'adhd', 'adobe', 'adoread', 'adp', 'ads', 'adult', 'adultfinder', 'adults', 'advance', 'advanced', 'adventures', 'advice', 'advisor', 'advisory', 'aesthetic', 'af', 'aff', 'affirm', 'affirmations', 'affordable', 'afro', 'afrointroductions', 'aftershock', 'agama', 'agapé', 'age', 'agent', 'aging', 'agreement', 'aha', 'ahlam', 'ahlan', 'ai', 'aid', 'aim', 'aimail', 'aimegen', 'ainvest', 'air', 'airframe', 'airplay', 'airtalk', 'aitubo', 'al', 'al2910', 'alabama', 'alarm', 'alawwal', 'albert', 'alcohol', 'alert', 'alerter', 'alerting', 'alerts', 'alexa', 'alexandra', 'alfredcamera', 'alibaba', 'alice', 'alien', 'aliexpress', 'alight', 'alison', 'alive', 'allblk', 'allcar', 'allevents', 'alliancehcm', 'allo', 'allstate', 'allsup', 'alltrails', 'almostti', 'aloud', 'alouds', 'alpena', 'alpha', 'alphafiction', 'alphanovel', 'alquran', 'alta', 'altametrics', 'alternate', 'alula', 'alux', 'ama', 'amaldate', 'amana', 'amarkets', 'amazon', 'ambetter', 'ambient', 'amc', 'amen', 'amenify', 'america', 'american', 'amigo', 'amma', 'amolatina', 'amor', 'amplifier', 'amsterdam', 'amt', 'analog', 'analysis', 'analytics', 'analyze', 'analyzer', 'anastasia', 'anatomy', 'ancestry', 'ancient', 'andrew', 'android', 'andromoney', 'andy', 'andyrdh', 'angel', 'angi', 'angular', 'angulardev', 'anilab', 'anilive', 'anim', 'animagic', 'animal', 'animated', 'animation', 'animations', 'animator', 'anime', 'anki', 'ankidroid', 'annabel', 'anne', 'annotations', 'anony', 'anonymous', 'anos', 'anova', 'answer', 'anti', 'antivirus', 'anxiety', 'anycast', 'anytime', 'aoe', 'ap', 'apart', 'apartment', 'apartments', 'apk', 'apowersoft', 'apparel', 'appatme', 'appbarber', 'appetia', 'appfolio', 'apple', 'applebee', 'applications', 'applied', 'applique', 'appointment', 'appointments', 'approved', 'apps', 'aprender', 'aprs', 'aprsdroid', 'aqara', 'aqua', 'ar', 'arab', 'arabic', 'arabs', 'arar', 'arby', 'arc', 'arch', 'archer', 'architecture', 'archives', 'arco', 'arcstory', 'ardraw', 'arduino', 'ari', 'arizona', 'ark', 'armour', 'army', 'art', 'arta', 'artbook', 'artflow', 'artifun', 'artify', 'artimind', 'artist', 'artistry', 'artpose', 'artrage', 'artrooms', 'artscroll', 'artspira', 'asana', 'asap', 'asccp', 'ascension', 'ashley', 'asia', 'asian', 'asiandate', 'asiandateme', 'asiandating', 'asics', 'ask', 'asl', 'asmr', 'assen', 'assessment', 'assist', 'assistance', 'assistant', 'assur', 'assurant', 'astb', 'astonishing', 'astronomy', 'asvab', 'aswb', 'ati', 'atlas', 'atm', 'atob', 'atom', 'atomus', 'atp', 'atscat5', 'attacks', 'attend', 'attendance', 'attendme', 'attestation', 'au', 'auctions', 'audible', 'audio', 'audiobook', 'audiobooks', 'audios', 'audit', 'auntie', 'aura', 'aurora', 'ausweisapp', 'autel', 'authenticator', 'auto', 'autobell', 'autoexpreso', 'autolist', 'automate', 'automatic', 'automend', 'automobile', 'automotive', 'autopten', 'autoresponder', 'autoscout24', 'autotempest', 'autotrader', 'autowash', 'autozen', 'autozone', 'autozonepro', 'ava', 'avast', 'avatar', 'avatars', 'aven', 'avg', 'aviation', 'avibra', 'avigilon', 'avokiddo', 'await', 'aware', 'away', 'axis', 'axiscare', 'axs', 'azar', 'azuki', 'ağlatan', 'b2b', 'b9', 'ba', 'babbel', 'baby', 'background', 'backless', 'backpack', 'backup', 'badi', 'badoo', 'bagel', 'bagels', 'baghdad', 'baguette', 'bakely', 'bakery', 'bakesy', 'baking', 'baklava', 'bala', 'balance', 'balancer', 'ballistics', 'ballozi', 'bally', 'ballyland', 'baluster', 'banca', 'band', 'bandlab', 'bang', 'banglocals', 'bangs', 'bank', 'banking', 'banks', 'banuba', 'baptism', 'bar', 'barber', 'barclays', 'barcode', 'bark', 'barmasters', 'barnes', 'barrel', 'bartender', 'bartending', 'based', 'basic', 'baskin', 'bass', 'batman', 'bats', 'battle', 'bayut', 'bazaart', 'bbq', 'bbs', 'bbw', 'bbwcupid', 'bbwink', 'bd', 'bdsm', 'beachbody', 'beacon', 'bead', 'beadstudio', 'bean', 'beard', 'bears', 'beat', 'beatrix', 'beats', 'beauties', 'beautiful', 'beautistics', 'beauty', 'bebefinn', 'bedbooking', 'bedtime', 'beela', 'beeline', 'beelinguapp', 'beenverified', 'beer', 'beginner', 'beginners', 'behance', 'behavior', 'behavioral', 'believers', 'belly', 'ben', 'bend', 'bending', 'benefits', 'benjamin', 'berlin', 'besos', 'best', 'bestfriend', 'bet', 'beta', 'betidy', 'better', 'betterhelp', 'betterme', 'bettersleep', 'betwixt', 'bfgoodrich', 'bg', 'bi', 'bible', 'bibles', 'biblia', 'biblical', 'bicupid', 'bid', 'bifish', 'big', 'bigfuture', 'bigg', 'biggercity', 'bigo', 'bigoven', 'bike', 'biker', 'bikes', 'billdu', 'billing', 'billionaire', 'billout', 'bills', 'bilt', 'bimma', 'bimmer', 'bimmercode', 'bimmerlink', 'binance', 'binaural', 'bindr', 'bioapp', 'bird', 'birday', 'birds', 'birthday', 'biscan', 'bisexual', 'bitbible', 'bitcoin', 'bite', 'bitget', 'bitloader', 'biz', 'bl', 'black', 'blackcupid', 'blackgentry', 'blackjack', 'blacklist', 'blaux', 'blaze', 'blazing', 'blemish', 'blend', 'blessed', 'blink', 'blinkist', 'blinkit', 'blinq', 'bliss', 'blissbond', 'blk', 'block', 'blockchain', 'blocker', 'blood', 'bloodborne', 'bloom', 'bloomberg', 'bloomhut', 'bloopworm', 'blossom', 'blue', 'bluedriver', 'bmi', 'bmo', 'bmw', 'boa', 'board', 'boards', 'boat', 'bob', 'bobby', 'boca', 'bodbot', 'bodi', 'body', 'bodybuilding', 'bodyfast', 'bodyfit', 'boldvoice', 'bolt', 'bom', 'bomb', 'bomtoon', 'bond', 'bonelli', 'bonger', 'bonitas', 'bonsai', 'boo', 'book', 'bookedin', 'booking', 'bookinglane', 'bookings', 'bookly', 'bookmory', 'books', 'booksnap', 'booksy', 'booktok', 'boomtoon', 'boost', 'boostcamp', 'booster', 'borrow', 'borrowing', 'boss', 'bosses', 'bot', 'botify', 'botim', 'bots', 'bottle', 'botão', 'bowls', 'box', 'boxing', 'boy', 'bp', 'brain', 'brainaural', 'brainbuddy', 'brainly', 'brainscape', 'branch', 'brandefy', 'brands', 'brasileiro', 'brave', 'bravonovel', 'brazilcupid', 'brazilian', 'bread', 'break', 'breaker', 'breakers', 'breaking', 'breakout', 'breathing', 'breed', 'breethe', 'breeze', 'brew', 'brewery', 'brewfecto', 'bria', 'bridal', 'bridebook', 'bridelook', 'bright', 'brightest', 'brightspace', 'brightwheel', 'brigit', 'brilliant', 'bring', 'britbox', 'british', 'broadcaster', 'broken', 'broker', 'brooch', 'bros', 'brother', 'browser', 'bt', 'btc', 'btcc', 'bubble', 'bucket', 'bucks', 'buddhify', 'buddhist', 'buddy', 'budge', 'budget', 'budgeting', 'budgets', 'buenos', 'buenovela', 'buffalo', 'bug', 'build', 'builder', 'building', 'bulk', 'bumble', 'bumper', 'bumpy', 'bund', 'bundt', 'bunpo', 'bunt', 'bunzo', 'burger', 'burn', 'burner', 'bus', 'bushel', 'business', 'businesses', 'bussid', 'buster', 'busuu', 'butterfly', 'buttons', 'buy', 'buyer', 'buz', 'buzzcast', 'buzzkill', 'bybit', 'bz', 'c1', 'c25k', 'ca', 'cabana', 'cadence', 'caesars', 'cafe', 'cahokia', 'cake', 'cakes', 'cal', 'calc', 'calculation', 'calculator', 'calculators', 'calendar', 'calendarxန', 'caliber', 'calibrator', 'calibre', 'california', 'callapp', 'caller', 'calligraphy', 'calling', 'callr', 'calls', 'calm', 'calorie', 'cam', 'camcard', 'camera', 'cameraftp', 'cammate', 'camo', 'camouflage', 'campero', 'campus', 'camscanner', 'camy', 'cancellations', 'cancer', 'candle', 'candlestick', 'candy', 'cane', 'canela', 'canva', 'canvas', 'capcut', 'capillary', 'capital', 'captain', 'captions', 'capture', 'car', 'car300', 'carango', 'carb', 'carbon', 'card', 'cardiag', 'cardpointers', 'cards', 'care', 'carecredit', 'career', 'careers', 'carfax', 'cargurus', 'carib', 'caribbeancupid', 'caribou', 'carista', 'carkey', 'carly', 'carmax', 'carolinas', 'caroline', 'carousel', 'carparts', 'carplay', 'carrabba', 'carrera', 'carrier', 'carroll', 'carry', 'cars', 'carstream', 'cartomizer', 'cartoon', 'cartoons', 'carvana', 'carwebguru', 'casanova', 'case', 'casey', 'cash', 'cashew', 'cashhoop', 'cashwalk', 'casino', 'cast', 'castchat', 'caster', 'castle', 'casual', 'casualx', 'cat', 'catalog', 'catalogue', 'catalyst', 'catalytic', 'catechism', 'caterpillar', 'catholic', 'catholicmatch', 'cats', 'cattle', 'católica', 'cb', 'cbd', 'cbr', 'cbt', 'cbz', 'ccc', 'ccm', 'ccna', 'ccsp', 'cctv', 'ccw', 'cdff', 'cdisplayex', 'cdl', 'ce5', 'cefco', 'ceiling', 'celest5409', 'cell', 'cent', 'center', 'centerwell', 'centr', 'central', 'centre', 'ceo', 'cepher', 'ceramic', 'cfmoto', 'cgx', 'ch', 'chai', 'challenge', 'challenger', 'chambers', 'chamet', 'change', 'changer', 'channel', 'chaos', 'chapter', 'character', 'characters', 'charge', 'charging', 'charleys', 'charts', 'chase', 'chat', 'chatany', 'chatbot', 'chaton', 'chatrandom', 'chatroom', 'chats', 'cheap', 'check', 'checkbook', 'checker', 'checkers', 'checkin', 'checklist', 'checks', 'cheddar', 'cheese', 'chef', 'chefclub', 'chefkoch', 'chegg', 'chemical', 'chester', 'chick', 'chicken', 'chickens', 'childcare', 'chime', 'chinalovecupid', 'chinese', 'chipotle', 'chirp', 'chispa', 'chomp', 'chop', 'chopper', 'chords', 'chores', 'chownow', 'christian', 'christiancupid', 'chrome', 'chromebook', 'chromecast', 'chubs', 'chuck', 'church', 'chuze', 'chyrpe', 'cicis', 'cikcik', 'cinemark', 'cinetoolkit', 'cipher', 'ciphers', 'circle', 'circuit', 'circus', 'cirque', 'cissp', 'citi', 'citizens', 'city', 'cl', 'clapper', 'clarify', 'clarity', 'clark', 'classes', 'classic', 'classpass', 'clay', 'clean', 'cleaner', 'cleaning', 'clear', 'cleo', 'clerkone', 'cleverbook', 'click', 'client', 'cliente', 'clients', 'clinic', 'clinics', 'clip', 'clipper', 'clock', 'cloned', 'cloner', 'close', 'closet', 'clothes', 'clothing', 'cloud', 'cloudeye', 'club', 'clubs', 'clue', 'clz', 'cnbc', 'coach', 'coaching', 'coalesce', 'cocktail', 'cocktails', 'coco', 'cocofun', 'code', 'coder', 'codes', 'coding', 'coffee', 'coin', 'coinbase', 'coinfacts', 'coinmarketcap', 'coinoscope', 'coins', 'coinstats', 'cold', 'collage', 'collect', 'collection', 'collector', 'colombia', 'colombiancupid', 'color', 'colorama', 'coloring', 'colorist', 'colors', 'colorsnap', 'colour', 'com', 'combine', 'combiner', 'combo', 'comes', 'comet', 'comic', 'comickey', 'comicle', 'comico', 'comicreader', 'comics', 'comicscreen', 'comicviewer', 'comikey', 'comiquest', 'commander', 'commerce', 'commodity', 'common', 'communication', 'communicator', 'communion', 'community', 'companion', 'company', 'compass', 'compiler', 'compose', 'comptia', 'computer', 'comun', 'concealed', 'concepts', 'concert', 'concerts', 'concora', 'concur', 'conditioner', 'conduit', 'conference', 'confide', 'conjugation', 'connect', 'connecteam', 'connected', 'connection', 'connections', 'connectnetwork', 'connector', 'connects', 'conservative', 'consoles', 'constant', 'constellation', 'construction', 'consumption', 'contact', 'contactless', 'contractor', 'contractors', 'control', 'controller', 'conversation', 'conversations', 'convert', 'converter', 'converters', 'cook', 'cookbook', 'cookbooks', 'cookie', 'cookies', 'cooking', 'cooklist', 'cookmate', 'cookpad', 'cookunity', 'cool', 'coomeet', 'coordinates', 'copilot', 'coraline', 'corepro', 'corluma', 'cornell', 'corporation', 'corral', 'corrections', 'cortes', 'cosmetic', 'cosmetics', 'cosmic', 'cosmo', 'cosmoprof', 'cost', 'costco', 'costs', 'coub', 'couch', 'cougar', 'counseling', 'count', 'countdown', 'counter', 'counting', 'countries', 'county', 'coupe', 'couples', 'coupons', 'courant', 'course', 'coursera', 'courses', 'cousins', 'cover', 'coverme', 'cow', 'cozmic', 'cozyread', 'cr', 'crack', 'cracked', 'cracker', 'craft', 'crafting', 'craftsman', 'craps', 'crash', 'crayon', 'craze', 'cream', 'creami', 'creart', 'create', 'creati', 'creation', 'creative', 'creator', 'creators', 'creatures', 'credit', 'creditwise', 'creepy', 'creme', 'crescent', 'cricut', 'crime', 'criteria', 'criterion', 'critic', 'crm', 'crochet', 'crockpot', 'crocodile', 'cronometer', 'cross', 'crosshair', 'crossroads', 'crossrope', 'crown', 'crunchtime', 'crush', 'crushx', 'cruzen', 'crypto', 'cryptocurrency', 'cryptoguru', 'cryptohopper', 'cryptotab', 'crystal', 'crystalyze', 'csl', 'ctrl', 'cubesmart', 'cue', 'cuisine', 'cuisines', 'culinary', 'culver', 'cupi', 'cupixel', 'curbside', 'curiosity', 'curious', 'currency', 'current', 'curri', 'curry', 'cursa', 'curso', 'curvy', 'custard', 'customer', 'customers', 'customize', 'customizer', 'customuse', 'cut', 'cutai', 'cute', 'cuts', 'cutters', 'cutting', 'cv', 'cvent', 'cvs', 'cvsa', 'cw', 'cybersecurity', 'cycle', 'cz', 'd380', 'da', 'dacia', 'daddy', 'daikin', 'daily', 'dailybible', 'dailyfm', 'dailypay', 'dailyroads', 'dairy', 'dali', 'dalle', 'damonsx2', 'dance', 'dancebit', 'dancefitme', 'dangerous', 'daniel', 'dapper', 'dare', 'dark', 'das', 'dash', 'dashboard', 'dashcam', 'dashcommand', 'dasher', 'dasherdirect', 'dashtoon', 'dat', 'data', 'database', 'datamosh', 'datamoshing', 'date', 'dateasia', 'datemyage', 'dates', 'dateup', 'dati', 'dating', 'dave', 'davinci', 'dawn', 'day', 'days', 'dazn', 'dazzly', 'db', 'dbt', 'dc', 'dcsv', 'ddmusic', 'ddp', 'dds', 'deadbox', 'deal', 'dealcheck', 'deals', 'dear', 'dearborn', 'debt', 'decoder', 'decor', 'decorating', 'deep', 'deepl', 'deepstash', 'deferit', 'del', 'delaware', 'deleted', 'deli', 'delicious', 'deliciously', 'delineation', 'delish', 'deliver', 'deliveroo', 'delivery', 'delta', 'deluxe', 'demand', 'demo', 'denny', 'deportes', 'depot', 'derby', 'desaturate', 'desh', 'design', 'designer', 'designs', 'desk', 'desktop', 'desmos', 'desygner', 'detailing', 'details', 'detect', 'detection', 'detector', 'dev', 'device', 'devil', 'devotion', 'devotional', 'dexcom', 'dext', 'dia', 'diabetes', 'diabetic', 'diag', 'diagnostic', 'diagnostics', 'diagrams', 'dialer', 'diamond', 'diary', 'dice', 'dictionary', 'didi', 'diem', 'diesel', 'diet', 'diffuse', 'digimon', 'digipay', 'digital', 'dil', 'dimensions', 'dineout', 'dinero', 'ding', 'dingdoor', 'dining', 'dino', 'dipsea', 'direct', 'directory', 'dirt', 'discard', 'disco', 'discord', 'discotech', 'discount', 'discover', 'discovery', 'discreet', 'diseño', 'disney', 'display', 'disposable', 'distance', 'diverse', 'divide', 'diy', 'dj', 'dji', 'djvu', 'dl', 'dm', 'dmod', 'dmv', 'dna', 'dns', 'docs', 'doctor', 'document', 'documentaries', 'documents', 'doft', 'dog', 'dogo', 'doh', 'doing', 'dollar', 'dollarbird', 'dominicancupid', 'dominion', 'domino', 'domireel', 'donate', 'donation', 'donna', 'doodle', 'doordash', 'doors', 'dost', 'dot', 'dou', 'dovly', 'download', 'downloader', 'dpa', 'dpc', 'dq', 'dr', 'drac', 'draftkings', 'dragger', 'drama', 'dramabite', 'dramabox', 'dramas', 'dramashorts', 'dramatime', 'draw', 'drawing', 'drawings', 'drc', 'dream', 'dreame', 'dreamerland', 'dreameshort', 'dreams', 'dredd', 'dress', 'dressika', 'dresstry', 'dressyourface', 'dribbleup', 'drink', 'drinks', 'drive', 'driveology', 'driver', 'drivers', 'drivetime', 'driving', 'drivvo', 'droid', 'droidcamx', 'drone', 'drones', 'drop', 'dropbox', 'drops', 'drr', 'drum', 'drupe', 'dse', 'dslr', 'dtt', 'du', 'dual', 'duas', 'dub', 'duckduckgo', 'duel', 'dui', 'duke', 'dunkin', 'duo', 'duocards', 'duolingo', 'duplicator', 'duplo', 'dust', 'dutch', 'duty', 'dvb', 'dvsa', 'dwell', 'dwellin', 'dyno', 'día', 'días', 'dēzl', 'e6b', 'e6bx', 'eagle', 'earn', 'earnin', 'earns', 'earth', 'earthquake', 'eastern', 'easy', 'easybudget', 'easyline', 'easynovelhub', 'easyquit', 'easytether', 'easyviewer', 'eat', 'eatmoreplants', 'eats', 'eatz', 'ebay', 'ebook', 'ebooks', 'eboox', 'ebt', 'ecards', 'ecommerce', 'econtool', 'ecri', 'ecwid', 'ed', 'edate', 'edge', 'edison', 'edit', 'editing', 'edition', 'editor', 'edmtrain', 'edmunds', 'education', 'effect', 'effects', 'egg', 'eggs', 'egypt', 'eharmony', 'eib', 'eimh', 'einstein', 'el', 'electric', 'electrical', 'electricians', 'electricity', 'electronics', 'elegant', 'elele', 'element', 'elements', 'elephant', 'elevate', 'elite', 'elitesingles', 'ella', 'elleebana', 'elm', 'elm327', 'elmo', 'elsa', 'em', 'email', 'ember', 'embroidery', 'emdr', 'eme', 'emeals', 'emf', 'emma', 'emoji', 'emojis', 'emotes', 'employee', 'empower', 'ems', 'emt', 'emulator', 'en', 'encore', 'encrypted', 'encyclopedia', 'end', 'endel', 'endless', 'endoscope', 'energy', 'engagement', 'engine', 'engineer', 'english', 'enhance', 'enhanced', 'enhancer', 'enjoy', 'enlighten', 'enm', 'enphase', 'entertainment', 'eobd', 'ep', 'epa', 'epic', 'episodes', 'eprint', 'epub', 'equipment', 'eraser', 'ereader', 'eris', 'errands', 'esb', 'esign', 'esim', 'eso', 'esp', 'español', 'esport', 'esports', 'ess', 'essential', 'essentials', 'estate', 'estimate', 'estimating', 'estimator', 'esv', 'etfs', 'eth', 'ether', 'ethereum', 'etherio', 'ethical', 'ethiopia', 'ethiopian', 'eticket', 'etsy', 'eurodate', 'european', 'ev', 'eva', 'evans', 'event', 'eventbrite', 'eventlive', 'eventnab', 'eventos', 'events', 'everand', 'everlance', 'evermatch', 'evernote', 'everydollar', 'everyplate', 'evgo', 'evidation', 'evil', 'evoffer', 'evolveyou', 'evp', 'ewa', 'ewd', 'ex', 'exact', 'exam', 'example', 'exchange', 'exclusive', 'exercise', 'exercises', 'exodus', 'expand', 'expedia', 'expense', 'expenses', 'experience', 'experiences', 'expert', 'explanation', 'explore', 'explorer', 'expo', 'expo2025', 'express', 'expressvpn', 'extra', 'extratool', 'eye', 'eyes', 'ezclocker', 'eōs', 'f9', 'faa', 'fab', 'fable', 'fabulous', 'face', 'faceapp', 'faceauty', 'facehub', 'facemagic', 'faceswap', 'facetec', 'faceter', 'facetone', 'facile', 'facility', 'factor', 'factor_', 'facts', 'fahlo', 'fair', 'fairemail', 'faith', 'faithfi', 'fake', 'falla', 'falling', 'fallout', 'falou', 'fambase', 'families', 'family', 'familysearch', 'fan', 'fandango', 'fanduel', 'fanfiction', 'fantasia', 'fantastic', 'fantasy', 'fantuan', 'fanytel', 'far', 'fargo', 'farm', 'farmers', 'farming', 'farms', 'farrier', 'fart', 'fas', 'fashion', 'fast', 'fasteasy', 'faster', 'fastic', 'fasting', 'fat', 'fatednovel', 'favor', 'favorite', 'favornovel', 'fawesome', 'fax', 'faxcover', 'faxes', 'faxfile', 'faxing', 'faxеs', 'fbreader', 'fcb', 'fe', 'feast', 'fedex', 'feedread', 'feedya', 'feel', 'feeld', 'feelinmyskin', 'feels', 'feelsy', 'fellowship', 'female', 'fender', 'fere', 'ferrari', 'ferret', 'fest', 'festival', 'festivals', 'fetch', 'fetish', 'fever', 'ff', 'ffa', 'fff', 'ffire', 'ffuuu', 'fi', 'fiat', 'fiber', 'ficbook', 'fico', 'fictio', 'fiction', 'fictional', 'fictionme', 'fictions', 'fidelity', 'fidelityagent', 'field', 'fieldwire', 'fifth', 'fig', 'fighter', 'fighting', 'figma', 'figurinhas', 'figwee', 'fil', 'filament', 'files', 'filipino', 'filipinocupid', 'film', 'films', 'filter', 'filters', 'filtre', 'finally', 'finance', 'financial', 'finch', 'findable', 'finder', 'fingers', 'finhabits', 'finimize', 'fiorry', 'firearms', 'firefox', 'firehouse', 'fireplace', 'firestick', 'firestone', 'firestorm', 'fish', 'fit', 'fitai', 'fitbod', 'fitcoach', 'fitia', 'fitify', 'fitmencook', 'fitment', 'fitness', 'fitnotes', 'fiton', 'fiverr', 'fivesec', 'fix', 'fixd', 'fixer', 'fl', 'flag', 'flash', 'flashcards', 'flashfood', 'flashgreek', 'flashgreekpro', 'flashlight', 'flashnote', 'flat', 'flatify', 'flats', 'flavorish', 'fleet', 'flex', 'flexibility', 'flexjobs', 'flexmls', 'flextv', 'flexure', 'flight', 'flights', 'fling', 'flipaclip', 'flipartify', 'flipped', 'flirt', 'flirtex', 'flirtify', 'flirtini', 'flirtual', 'flix', 'flo', 'floatme', 'floor', 'flora', 'floral', 'floraquest', 'florida', 'flourish', 'flow', 'flowbird', 'flower', 'flowers', 'flowkey', 'flowt', 'fluid', 'fluids', 'flure', 'flutter', 'fly', 'flyer', 'flyers', 'flying', 'fm', 'fnbt', 'fnp', 'focus', 'fodmap', 'fog', 'foldersync', 'fongo', 'font', 'fonto', 'fonts', 'food', 'foodbymaria', 'foodi', 'foodie', 'foodpanda', 'foods', 'foodvisor', 'foot', 'football', 'foraging', 'force', 'ford', 'fordsys', 'forecast', 'foreclosure', 'foreo', 'forest', 'forever', 'forex', 'forks', 'formatter', 'forms', 'fortune', 'foryou', 'fototweak', 'foundations', 'foxeyes', 'foxfi', 'foxnovel', 'fps', 'fr', 'fragrantica', 'frame', 'frames', 'français', 'française', 'freddy', 'free', 'freebie', 'freecash', 'freed', 'freedom', 'freelance', 'freelancers', 'freeletics', 'freepik', 'freestream', 'freevee', 'fresh', 'fresha', 'freshbooks', 'fric', 'friday', 'friend', 'friends', 'frontline', 'frost', 'frozen', 'fruit', 'fruits', 'fruitz', 'fryd', 'fryer', 'fryr', 'fs', 'fsm', 'ft8', 'ft8rx', 'fu', 'fubo', 'fudget', 'fuel', 'fuelio', 'fullscreen', 'fully', 'fullyraw', 'fun', 'fundspec', 'fungi', 'fungus', 'funny', 'funread', 'funswap', 'furnace', 'furnished', 'furniture', 'fuse', 'fusion', 'fuss', 'futebol', 'futo', 'future', 'futuremagic', 'fw100', 'fwb', 'fx', 'fxstreet', 'führerschein', 'g1', 'gad', 'gagaoolala', 'galatea', 'galaxy', 'gallery', 'gama', 'game', 'gamers', 'games', 'gametime', 'gamified', 'gaming', 'gangster', 'gap', 'gaper', 'garagepro', 'garden', 'gardenize', 'garmin', 'gas', 'gasgas', 'gastric', 'gate', 'gateway', 'gathering', 'gatherings', 'gauge', 'gauth', 'gay', 'gazer', 'gba', 'geacron', 'gear', 'geeks', 'geforce', 'geico', 'gemini', 'gemstone', 'gen', 'gencraft', 'generac', 'general', 'generator', 'genesia', 'genie', 'genius', 'genki', 'gente', 'genzart', 'geoactivity', 'geocaching', 'geooh', 'georgia', 'geotag', 'german', 'geske', 'gestor', 'getcode', 'getquin', 'gets', 'gettingout', 'gexa', 'gfx', 'gg', 'ghost', 'ghostcom', 'ghosttube', 'giant', 'gibson', 'giddy', 'gif', 'gifs', 'gift', 'gig', 'gigahash', 'gignology', 'gigs', 'gigsmart', 'giraffe', 'girl', 'girlfriend', 'girls', 'girvan', 'glambu', 'glass', 'glassdoor', 'glasses', 'glitch', 'glitter', 'glo', 'global', 'globalcomix', 'globoplay', 'glorify', 'glory', 'glossary', 'glow', 'glows', 'gltool', 'glucose', 'gluten', 'glydsphere', 'gm', 'go1984', 'go2bank', 'goart', 'goblin', 'godaddy', 'gofasting', 'gohenry', 'gold', 'golden', 'goldstar', 'gomining', 'good', 'goodbudget', 'goodfic', 'goodnight', 'goodnovel', 'goodreads', 'goodshort', 'goodstories', 'google', 'gopro', 'gopuff', 'gordon', 'gorebox', 'gosayhello', 'gospel', 'gps', 'gpt', 'gradeway', 'grading', 'grammar', 'grand', 'grandstand', 'granny', 'grapes', 'graph', 'graphic', 'graphics', 'graphing', 'graphionica', 'gravy', 'gre', 'great', 'greek', 'greeks', 'green', 'greenlight', 'gretio', 'gretna', 'grid', 'gridwise', 'grill', 'grimal', 'grindr', 'groceries', 'grocery', 'grocy', 'grooming', 'groove', 'groundwire', 'group', 'groups', 'grow', 'growing', 'grubhub', 'grundig', 'gtl', 'guard', 'guardian', 'guest', 'guide', 'guidelines', 'guides', 'guitar', 'gulf', 'gun', 'guru', 'gurukula', 'gus', 'gusto', 'gut', 'gutenberg', 'guy', 'guys', 'guysonly', 'gx', 'gym', 'gymbros', 'gyraline', 'habi', 'habit', 'habits', 'hac', 'hackerx', 'hacking', 'hair', 'haircare', 'haircut', 'haircuts', 'hairkeeper', 'hairs', 'hairstyle', 'hairstyles', 'haki', 'hal', 'halal', 'hallman', 'hallmark', 'hallow', 'halloween', 'ham', 'hamstudy', 'hand', 'handbook', 'handcent', 'handoff', 'hands', 'handshake', 'handwriting', 'handy', 'handyman', 'handynovel', 'hang', 'hangout', 'hanping', 'happier', 'happn', 'happy', 'har', 'harakati', 'hard', 'hardee', 'harris', 'harvard', 'hasfit', 'hat', 'haven', 'hbni', 'hbo', 'hc', 'hd', 'hdmi', 'head', 'headshot', 'headspace', 'headunit', 'headway', 'heal', 'health', 'healthcare', 'healthequity', 'healthi', 'healthy', 'heart', 'heartify', 'hearts', 'heavens', 'heavy', 'hebrew', 'heic', 'height', 'helicopter', 'hello', 'hellochinese', 'hellofresh', 'hellotalk', 'help', 'helper', 'henna', 'herbible', 'herbs', 'herculaneum', 'heritcoin', 'herlife', 'hero', 'heroscape', 'herosearch', 'herpes', 'hevy', 'hey', 'heyo', 'hickey', 'hide', 'hifi', 'high', 'higher', 'highway', 'hiha', 'hihello', 'hikayeler', 'hike', 'hily', 'himalaya', 'himnario', 'hims', 'hin', 'hindi', 'hinge', 'hipaint', 'hippie', 'hippo', 'hiptix', 'hire', 'hired', 'hiring', 'hisense', 'histamine', 'history', 'hit', 'hive', 'hiya', 'hmk', 'hobbyist', 'hobdrive', 'hobnob', 'hodl', 'hof', 'holafly', 'holic', 'holiday', 'holidays', 'holman', 'holy', 'hombre', 'hombres', 'home', 'homeboard', 'homebuyers', 'homebuying', 'homehabit', 'homellow', 'homemade', 'homer', 'homes', 'homescreen', 'homeserve', 'homestyler', 'hometown', 'homework', 'homey', 'honey', 'honeybook', 'honeycam', 'honeynovel', 'hook', 'hooked', 'hookup', 'hookups', 'hoopla', 'horizon', 'horn', 'horns', 'horror', 'horse', 'hortons', 'hospital', 'hosts', 'hot', 'hotchat', 'hotels', 'hotmail', 'hotpads', 'hotspot', 'hottalk', 'hotti', 'hound', 'hour', 'hours', 'house', 'housecall', 'household', 'houses', 'housy', 'houzz', 'howies', 'hprinter', 'hq', 'hr2vp', 'hra', 'hub', 'hubzu', 'huck', 'hud', 'hue', 'hug', 'hulu', 'human', 'humanitix', 'humble', 'hungry', 'hungrypanda', 'hunt', 'hunter', 'hunting', 'huntington', 'huntr', 'huntstand', 'hur', 'hurdlr', 'hurry', 'hush', 'hushed', 'husqvarna', 'hut', 'hvac', 'hwahae', 'hx', 'hy', 'hybrid', 'hydro', 'hygiene', 'hymn', 'hymnal', 'hypnosis', 'hypnotherapy', 'hyundai', 'hyve', 'iaa', 'iam', 'iax', 'ibis', 'ibrewcoffee', 'ibs', 'ice', 'icelandic', 'iclicker', 'icloud', 'icollect', 'icon', 'iconpack', 'icook', 'ics', 'id', 'ide', 'ideal', 'ideas', 'identification', 'identifier', 'identify', 'identity', 'idmji', 'idoser', 'idée', 'ifax', 'ifit', 'ifsta', 'ifunny', 'ig', 'ignite', 'ihappy', 'ihealth', 'iheart', 'ihop', 'ii', 'il', 'illuminator', 'illustration', 'illustrator', 'image', 'images', 'imagine', 'imagineart', 'imdb', 'ime', 'imgit', 'imikimi', 'immobiliare', 'imo', 'imon', 'imprint', 'improve', 'improvement', 'impulse', 'imvu', 'inbox', 'incardoc', 'incident', 'inclusive', 'incode', 'incognito', 'incolor', 'increase', 'index', 'indian', 'indo', 'indomio', 'indonesia', 'indoor', 'indy', 'infinite', 'infinity', 'info', 'infocar', 'information', 'inglés', 'ingredient', 'ingredients', 'ingressos', 'ink', 'inkitt', 'inkme', 'inkr', 'inkscape', 'inky', 'inner', 'innocaption', 'innovative', 'insect', 'inshallah', 'inside', 'insight', 'insights', 'insignia', 'insitu', 'insomnia', 'inspect', 'inspired', 'insta', 'instabridge', 'instacart', 'instamart', 'instant', 'instawork', 'instinct', 'instories', 'instructor', 'instrument', 'insult', 'insurance', 'insure', 'intch', 'integrity', 'intelligent', 'inter', 'interact', 'interior', 'intermittent', 'international', 'internationalcupid', 'internet', 'interracial', 'interracialcupid', 'interval', 'intolerance', 'intolerances', 'intolerapp', 'intuit', 'intune', 'inventory', 'invertir', 'invest', 'investing', 'investment', 'investments', 'investor', 'invests', 'invitaciones', 'invitation', 'invoice', 'invoice2go', 'invoices', 'invoicetemple', 'invoicing', 'ios', 'ip', 'iplum', 'ipsy', 'iptv', 'iq', 'iqiyi', 'iqmasters', 'iquran', 'iranian', 'iraq', 'ireader', 'ireal', 'ireland', 'iringtones', 'iris', 'iromance', 'iron', 'isc2', 'iscanner', 'isekai', 'isharing', 'islamic', 'iss', 'istory', 'isync', 'italia', 'italian', 'itech', 'itemeyes', 'iti', 'iverify', 'izneo', 'jabber', 'jack', 'jackpocket', 'jaco', 'jacob', 'jalan', 'james', 'japancupid', 'japanese', 'jason', 'java', 'javadev', 'jawline', 'jazeera', 'jb4', 'jbl', 'jefit', 'jerry', 'jersey', 'jesus', 'jetsign', 'jewelry', 'jewish', 'jigsaw', 'jimmy', 'job', 'jobber', 'jobget', 'jobs', 'jobstack', 'joel', 'john', 'johns', 'johnson', 'joi', 'join', 'joist', 'jokes', 'jotform', 'journal', 'journey', 'journie', 'jow', 'jpg', 'jrny', 'js', 'jscan', 'judge', 'juice', 'juicy', 'jump', 'jumpmaster', 'jumpspeak', 'junior', 'junk', 'just', 'justalk', 'justfit', 'justin', 'justplay', 'juz', 'jw', 'jyoupro', 'kahoot', 'kaiser', 'kakaotalk', 'kaliman', 'kalos', 'kangaroo', 'kanji', 'kansas', 'karaoke', 'kareem', 'karl', 'karma', 'kasual', 'kay', 'keepcalling', 'keeper', 'keepsafe', 'keeptruckin', 'kendra', 'keto', 'ketogenic', 'key', 'keyboard', 'keyconnect', 'kfc', 'khan', 'khatmah', 'khedma', 'kick', 'kid', 'kiddopia', 'kids', 'kifflire', 'kik', 'kikoff', 'kindle', 'kindroid', 'kinetic', 'king', 'kink', 'kinklife', 'kinky', 'kiosk', 'kippo', 'kismia', 'kiss', 'kit', 'kitchen', 'kitchenpal', 'kiwi', 'kiwilimón', 'kjv', 'klover', 'klwp', 'kna003', 'kna006', 'kna008', 'kna015', 'knee', 'knot', 'knots', 'know', 'knowunity', 'koala', 'kobo', 'kochen', 'kocowa', 'koko', 'komoot', 'kompanion', 'korea', 'korean', 'koreancupid', 'koulchy', 'kpop', 'kptncook', 'kraken', 'kristina', 'kroger', 'ksuki', 'kubenav', 'kubernetes', 'kucoin', 'kum', 'kumo', 'kung', 'kungfu', 'kura', 'kuro', 'kuruş', 'kustom', 'kwgt', 'kyral', 'kyte', 'la', 'lab', 'label', 'labels', 'labs', 'lacquergram', 'lads', 'ladyjeepers', 'lag', 'lake', 'lalatoon', 'land', 'landing', 'landscape', 'lane', 'language', 'languager', 'languages', 'lantern', 'lap', 'large', 'larix', 'laser', 'lashes', 'lasta', 'lasting', 'later', 'latest', 'latin', 'latinamericancupid', 'latino', 'latinos', 'laughs', 'launch', 'launcher', 'laundry', 'laundryheap', 'lawn', 'lawsuit', 'layout', 'lazy', 'lazydog', 'lazyfit', 'lcars', 'lcsw', 'lds', 'le', 'leader', 'leads', 'leafsnap', 'league', 'leapahead', 'learn', 'learning', 'learns', 'leasing', 'lector', 'led', 'ledglow', 'lefun', 'leg', 'legal', 'legends', 'legere', 'legion', 'lego', 'lemon8', 'lemonade', 'lendme', 'lenguaje', 'lenme', 'lens', 'lense', 'leonardo', 'lera', 'lereader', 'les', 'lesbian', 'lessons', 'let', 'letgo', 'letmesee', 'letter', 'letterhead', 'letters', 'letting', 'level', 'lezhin', 'lg', 'lgbt', 'lgbtq', 'libby', 'liberty', 'libon', 'library', 'librera', 'librivox', 'lice', 'license', 'lie', 'life', 'life360', 'lifelock', 'lifestyle', 'lifesum', 'lifetime', 'lifeup', 'lifting', 'lifx', 'light', 'lightbox', 'lightchat', 'lighted', 'lighter', 'lightroom', 'lights', 'lightsaber', 'ligo', 'like', 'likerro', 'likey', 'limes', 'lindsay', 'linduu', 'line', 'lineman', 'lines', 'linex', 'ling', 'lingodeer', 'lingokids', 'lingopie', 'lingq', 'lingual', 'lingutown', 'lingvano', 'lingvist', 'lining', 'link', 'linked', 'linkedin', 'links', 'linky', 'linq', 'list', 'listener', 'listening', 'listers', 'listings', 'litchi', 'literie', 'lithium', 'litres', 'little', 'live', 'liveatc', 'lively', 'liveme', 'livensa', 'liveoak', 'live방송', 'living', 'll', 'lldm', 'load', 'loaded', 'loads', 'loan', 'lobster', 'local', 'location', 'locator', 'lock', 'lockdown', 'locker', 'lockscreen', 'loco', 'lofts', 'log', 'logiclike', 'login', 'logo', 'logos', 'logs', 'lol', 'lola', 'lollyy', 'long', 'longhorn', 'look', 'looks', 'lookup', 'loora', 'loosid', 'los', 'lose', 'loss', 'lost', 'lot', 'lottery', 'lounge', 'love', 'lovedate', 'lovegpt', 'lovein', 'lovense', 'loveplanet', 'lover', 'loves', 'loveshots', 'low', 'lowes', 'loóna', 'lp', 'lucky', 'lullaby', 'luma', 'lumafusion', 'lumenate', 'lumosity', 'lumpur', 'lunch', 'lunchbox', 'lunches', 'luvly', 'luvme', 'lux', 'luxury', 'luxy', 'ly', 'lycanfiction', 'lycannovel', 'lyfta', 'macadam', 'machine', 'machines', 'macro', 'macrofactor', 'macros', 'madam', 'madfit', 'madison', 'madness', 'magazine', 'magellantv', 'magfic', 'magic', 'magicapp', 'magicbricks', 'magiccon', 'magick', 'magnet', 'magnifi', 'magnificat', 'mail', 'maine', 'maintain', 'maintenance', 'majeed', 'majority', 'make', 'makeover', 'maker', 'makerblox', 'makeup', 'making', 'malwarebytes', 'mamba', 'man', 'manage', 'management', 'manager', 'mandala', 'manes', 'manga', 'mangago', 'mangaku', 'mangamello', 'mangamo', 'manganet', 'mangarise', 'mangas', 'mangascans', 'mangatoon', 'mango', 'manhua', 'manhunt', 'manhwa', 'manicure', 'mannequins', 'mannered', 'manobook', 'manpower', 'manta', 'manuela', 'map', 'maps', 'marathon', 'marche', 'marco', 'margarita', 'marimba', 'mark', 'market', 'marketbeats', 'marketing', 'marketplace', 'markets', 'markup', 'marriage', 'maru', 'marvel', 'mary', 'masked', 'mass', 'massage', 'master', 'masterclass', 'mastery', 'match', 'mate', 'material', 'materialx', 'math', 'mathmaster', 'maths', 'mathway', 'matic', 'matnnegar', 'matrix', 'mature', 'maurice', 'maverik', 'max', 'maxiap', 'maxiap200', 'maxim', 'maximize', 'maybe', 'maybelline', 'mc', 'mcdonald', 'mcdougall', 'mcguffey', 'mcpe', 'mcpro24fps', 'md242', 'md301', 'md307', 'md324', 'md332', 'md335', 'md338', 'meal', 'mealime', 'meals', 'meassage', 'measure', 'measurement', 'meat', 'meater', 'meb', 'mech', 'mechanic', 'medbridge', 'media', 'media365', 'mediamonkey', 'medibang', 'medical', 'medictests', 'medicube', 'meditat', 'meditate', 'meditation', 'mediterranean', 'meditopia', 'meet', 'meeting', 'meetings', 'meetme', 'meeto', 'meets', 'meetty', 'meetups', 'meetville', 'meganovel', 'mego', 'mehndi', 'melon', 'member', 'membership', 'meme', 'memes', 'memories', 'memorize', 'memory', 'memorylingo', 'memoryos', 'memrise', 'men', 'mental', 'menu', 'meow', 'meraluv', 'mercedes', 'merkury', 'merlin', 'mermaid', 'merriam', 'merrick', 'message', 'messaging', 'messengerx', 'meta', 'metamask', 'metatrader', 'metaverse', 'meter', 'meterable', 'method', 'metronome', 'metronovel', 'metropcs', 'metrosmart', 'mewing', 'mexican', 'mexicancupid', 'mezo', 'mgm', 'mi', 'mic', 'michelangelo', 'micro', 'microblading', 'microphone', 'microsoft', 'microwave', 'midjourney', 'miga', 'mike', 'mil', 'mileage', 'mileagewise', 'mileiq', 'milesfortax', 'military', 'militarycupid', 'milive', 'millions', 'mimic', 'mimo', 'min', 'mind', 'mindbody', 'mindfulness', 'mindroid', 'mindset', 'mindvalley', 'minecraft', 'minecraftpe', 'miner', 'mingle', 'mingle2', 'mini', 'miniature', 'minicraft', 'mining', 'mininovel', 'minno', 'minute', 'minutes', 'miracast', 'mirchi', 'mirroring', 'mirrorme', 'misfits', 'missed', 'mission', 'mistplay', 'mitsubishi', 'mix', 'mixed', 'mixel', 'mixology', 'mixplorer', 'mm', 'mms', 'mncraft', 'mo', 'mob', 'mobile', 'mobilex', 'mobilinc', 'mobility', 'mobill', 'mobills', 'moblo', 'moboreels', 'mobs', 'mockitup', 'mockup', 'mockups', 'mod', 'mode', 'model', 'modeling', 'models', 'modern', 'moderna', 'modiface', 'modland', 'modlist', 'modpack', 'mods', 'moescape', 'mollie', 'mom', 'moments', 'monai', 'monarch', 'monash', 'monday', 'mondly', 'monefy', 'monet', 'money', 'moneycard', 'moneygram', 'moneylion', 'moneytime', 'monitor', 'monitoring', 'monkey', 'monograms', 'monopoly', 'monroney', 'monster', 'monstera', 'montage', 'montessori', 'month', 'monthly', 'mony', 'monzo', 'mood', 'moodboard', 'moods', 'moomoo', 'moon', 'moonpay', 'moreshort', 'morethanone', 'morgen', 'mormon', 'morph', 'morphme', 'morse', 'mortgage', 'mos', 'mosaic', 'moshi', 'motion', 'motivation', 'motivational', 'motive', 'motool', 'motor', 'motorcycle', 'motorcycles', 'motordata', 'motors', 'mounce', 'mountain', 'mover', 'movie', 'movies', 'mp3', 'mph', 'mr', 'msb', 'mta', 'mtntough', 'mts', 'muertos', 'multiple', 'mum', 'murder', 'murphy', 'musaffa', 'muscle', 'muse', 'museum', 'mushroom', 'music', 'muslim', 'muslima', 'muslims', 'musora', 'mutual', 'muzz', 'mxgeo', 'myanmar', 'myatls', 'mybook', 'mycard', 'mychoice', 'mycompass', 'mycraft', 'mydiabetes', 'myevents', 'myfico', 'myfitcoach', 'myfitnesspal', 'mygenmobile', 'myheritage', 'myinfiniti', 'mymoney', 'mynetdiary', 'mynissan', 'mypay', 'myperfectresume', 'myqq', 'myracelab', 'myradar', 'mysms', 'myspot', 'mystery', 'mystical', 'mystique', 'mysudo', 'mytonwallet', 'mytunes', 'myvitals', 'mywed', 'mywic', 'mywisely', 'móvil', 'n5_theme', 'n7_theme', 'nail', 'nails', 'nanoleaf', 'napa', 'nasheed', 'nation', 'national', 'natural', 'nature', 'naughty', 'nav', 'navajo', 'naver', 'navigation', 'navigator', 'navradio', 'nawy', 'nayo', 'nbc', 'nbdhe', 'nclex', 'ndi', 'ndta', 'near', 'nearby', 'neck', 'neger', 'neighbor', 'neighborhood', 'neku', 'neoart', 'neon', 'neos', 'nerd', 'nerva', 'net', 'netbenefits', 'netcomics', 'netshare', 'netspend', 'network', 'networking', 'neuronation', 'nevermet', 'new', 'news', 'newsbreak', 'newspaper', 'nextdoor', 'nextplus', 'nfaudio', 'nfc', 'nfts', 'nhra', 'nice', 'nickname', 'nidra', 'night', 'nightlife', 'nightly', 'nightmares', 'nighty', 'niji', 'nike', 'niki', 'ninja', 'nintendo', 'nipto', 'nirnay', 'nissan', 'niv', 'nkjv', 'noaa', 'noble', 'nobroker', 'noches', 'nodes', 'noise', 'noite', 'nokia', 'nolag', 'nomad', 'nomo', 'nomorobo', 'noodles', 'nook', 'noom', 'nordvpn', 'norton', 'norton360', 'notalone', 'note', 'notes', 'noteshelf', 'noticias', 'notification', 'notifications', 'notifier', 'nova', 'novabeats', 'novel', 'novelbar', 'novelcat', 'novelenders', 'novelful', 'novelfull', 'novella', 'novellair', 'novelmates', 'noveloasis', 'novelpoly', 'novels', 'novelverse', 'novelwolf', 'novelworld', 'novi', 'np', 'nsa', 'nueva', 'nuki', 'number', 'numberguru', 'numbers', 'numero', 'nursery', 'nursing', 'nutrition', 'nutshell', 'nvh', 'nyc', 'nymph', 'nyt', 'obby', 'obc', 'obd', 'obd2', 'obdeleven', 'obdlink', 'obdocker', 'obituary', 'objects', 'observant', 'observatory', 'oc', 'ocr', 'odd', 'odometer', 'offers', 'offerup', 'office', 'officesuite', 'official', 'offline', 'offroad', 'oh', 'oil', 'oilfield', 'oils', 'oji', 'okcupid', 'okx', 'olaplex', 'old', 'older', 'olio', 'olive', 'ome', 'omegle', 'omni', 'omo', 'omron', 'onedrive', 'onemain', 'onemanga', 'onepro', 'oneshort', 'oneui', 'oni', 'online', 'onlit', 'onlynovel', 'onn', 'onphone', 'ons', 'ontrail', 'onx', 'oolimo', 'opel', 'open', 'opencv', 'opendoor', 'opensource', 'opera', 'operators', 'opinion', 'optimizer', 'option', 'options', 'optionstrat', 'ora', 'oracle', 'orbot', 'order', 'ordering', 'orders', 'oregon', 'oremus', 'org', 'organised', 'organiser', 'organize', 'organizeat', 'organized', 'organizer', 'origin', 'original', 'ortex', 'orthodox', 'os', 'osterie', 'otc', 'otg', 'ourflat', 'ourtime', 'outback', 'outcode', 'outcomes4me', 'outfit', 'outlined', 'outlook', 'outside', 'oven', 'ovulation', 'owner', 'owners', 'oxford', 'p2s', 'pa', 'pacer', 'pack', 'package', 'pad', 'padmapper', 'padsplit', 'page', 'paid', 'painter', 'painting', 'paired', 'pairing', 'paisano', 'paleo', 'palette', 'palettes', 'palm', 'palmagent', 'palmstreet', 'palpedia', 'pals', 'pam', 'panda', 'pandora', 'panel', 'panera', 'pango', 'panic', 'panorama', 'pantheon', 'pantrist', 'pantry', 'papa', 'paper', 'papercopy', 'paprika', 'para', 'paramedic', 'paramount', 'parasitic', 'parcel', 'parceled', 'parent', 'parfum', 'paris', 'park', 'parker', 'parking', 'parkmobile', 'parrot', 'partner', 'parts', 'party', 'pashto', 'pass', 'passion', 'passport', 'password', 'patephone', 'path', 'pathfinder', 'patient', 'patients', 'patrol', 'patterns', 'paw', 'pax', 'pay', 'paycheck', 'paychex', 'paycor', 'payday', 'payfare', 'payment', 'payments', 'payo', 'payoff', 'paypal', 'payroll', 'pays', 'paystub', 'pbs', 'pc', 'pcgs', 'pd', 'pdanet', 'pdg', 'pe', 'peacock', 'peak', 'pealim', 'pearson', 'peaz', 'pedal', 'pedidosya', 'pedometer', 'peerspace', 'pelo', 'peloton', 'pencil', 'pending', 'penguin', 'penly', 'penny', 'pennygems', 'penup', 'people', 'pepcalc', 'pepper', 'peptalk', 'peptide', 'per008', 'per010', 'per017', 'per23', 'per27', 'perception', 'perfect', 'perfect365', 'perfume', 'perfumes', 'perfumist', 'period', 'periodic', 'permanente', 'permit', 'perpay', 'persimmon', 'person', 'persona', 'personal', 'personalized', 'personals', 'peso', 'pet', 'peter', 'petrix', 'petro', 'pfe', 'pg', 'pgshap', 'pgt', 'pharmacy', 'phd', 'pheon', 'pheromance', 'phet', 'philips', 'philo', 'phoenix', 'phone', 'phonepe', 'phoner', 'phones', 'phonics', 'phorm', 'photo', 'photoleap', 'photoroom', 'photos', 'photoshare', 'photowonder', 'phound', 'physical', 'pi', 'pia', 'piano', 'pic', 'pick', 'picker', 'picknovel', 'picks', 'pickup', 'picky', 'picmonic', 'picpals', 'picrew', 'pics', 'picsart', 'picso', 'picture', 'pictures', 'picturethis', 'picu', 'piere', 'pilates', 'pilot', 'pimsleur', 'pinadate', 'pingme', 'pinkcupid', 'pinkfong', 'pinnacle', 'pip', 'piper', 'pirate', 'piston', 'pix', 'pixai', 'pixar', 'pixel', 'pixelcut', 'pixelparty', 'pixelwave', 'pixilart', 'pixivコミック', 'pixpic', 'pixshift', 'pizza', 'pkge', 'pkm', 'pla', 'place', 'placeit', 'plague', 'plamfy', 'plan', 'planet', 'planetarium', 'planets', 'planner', 'planning', 'plans', 'plant', 'planta', 'planti', 'plantid', 'plantify', 'plantin', 'plantnet', 'plants', 'plantsnap', 'plantum', 'plantyou', 'plastic', 'plate', 'plates', 'platform', 'platinum', 'platinumlist', 'platinumpro', 'play', 'playbook', 'player', 'playground', 'playing', 'playlet', 'playstation', 'playtime', 'playwall', 'playwell', 'pleasure', 'pleco', 'plenty', 'plex', 'pliability', 'plugin', 'plus', 'pluto', 'pnc', 'png', 'pocket', 'pocketbook', 'pocketguard', 'podcasts', 'poem', 'poetry', 'point', 'poke', 'pokepix', 'police', 'polish', 'politics', 'pollo', 'polo', 'poly', 'polyamory', 'pony', 'pool', 'pop', 'popa', 'popcorn', 'popeyes', 'popl', 'popo', 'poppo', 'popular', 'porn', 'porsche', 'portable', 'portal', 'portfolio', 'portfolios', 'portrait', 'pos', 'pose', 'poseable', 'poser', 'posh', 'position', 'positive', 'possible', 'post', 'posted', 'poster', 'postmates', 'pot', 'potato', 'potbelly', 'pottery', 'potty', 'pov', 'power', 'poweramp', 'powered', 'powerful', 'powerplant', 'ppss22', 'pr', 'practice', 'praktika', 'prank', 'pratilipi', 'pray', 'prayer', 'precision', 'predictions', 'preference', 'pregnancy', 'prehab', 'premier', 'premium', 'premom', 'prep', 'prepaid', 'prepared', 'preply', 'prepware', 'preschool', 'presents', 'president', 'pressure', 'pretty', 'prev', 'preview', 'previews', 'prevost', 'price', 'prices', 'pricing', 'pride', 'prime', 'primer', 'primerica', 'princess', 'principal', 'print', 'printer', 'printershare', 'prius', 'privacy', 'private', 'pro', 'problem', 'problems', 'probooks', 'procam', 'procare', 'process', 'proctor', 'produce', 'productivity', 'professional', 'professionals', 'program', 'programming', 'progression', 'project', 'projector', 'projects', 'prolink', 'promote', 'promova', 'promptapp', 'prompts', 'propel', 'property', 'proposal', 'pros', 'prosperi', 'protection', 'proton', 'prototype', 'providers', 'proxy', 'prueba', 'práctica', 'préstamos', 'ps', 'ps2', 'ps4', 'ps5', 'psa', 'psalter', 'psiphon', 'psp', 'pswaves', 'psychological', 'psychrometric', 'ptcb', 'ptce', 'ptt', 'pub', 'public', 'publications', 'publix', 'pulse', 'pulsebit', 'pump', 'pumpkin', 'pupil', 'puppy', 'pure', 'pureple', 'puss', 'puzzle', 'puzzles', 'pwrview', 'pxplay', 'pydroid', 'python', 'pyware', 'qanawat', 'qdoba', 'qdomyos', 'qi', 'qlone', 'qoidalari', 'qr', 'quack', 'quadratic', 'quant', 'quartet', 'queen', 'quest', 'question', 'quick', 'quickbend', 'quickbooks', 'quicken', 'quickly', 'quicksell', 'quicktakes', 'quicktix', 'quiet', 'quik', 'quiktrip', 'quinceanera', 'quincy', 'quinn', 'quit', 'quitsure', 'quiz', 'quizard', 'quizlet', 'quizzes', 'quote', 'quotes', 'quran', 'qz', 'race', 'rack', 'radar', 'radiance', 'radiant', 'radio', 'radish', 'rafa', 'raffle', 'rage', 'railway', 'rain', 'rainbow', 'raising', 'rakuten', 'rally', 'ramsey', 'randochat', 'random', 'randstad', 'range', 'rankontre', 'rapid', 'rapidgator', 'rapids', 'rappi', 'rarevision', 'rate', 'raves', 'raw', 'rc', 'rca', 'rdm', 'rdp', 'reactor', 'read', 'readability', 'reader', 'readera', 'readict', 'reading', 'readings', 'readink', 'readme', 'readnow', 'readsy', 'ready', 'real', 'realcall', 'realestate', 'realize', 'realm', 'realrider', 'realtalk', 'realtime', 'realtor', 'realty', 'reart', 'rebel', 'rebtel', 'receipt', 'receipts', 'receive', 'recetas', 'recette', 'recharge', 'recharges', 'recipe', 'recipeiq', 'recipes', 'recognise', 'recognition', 'recolor', 'record', 'recorder', 'recover', 'recovery', 'recovr', 'red', 'redesign', 'redfin', 'redwing', 'reed', 'reef', 'reel', 'reelshort', 'reevo', 'ref', 'reference', 'references', 'reflector', 'reframe', 'regal', 'regions', 'regulation', 'rehab', 'reilly', 'reina', 'relationship', 'relationships', 'relax', 'relaxing', 'relay', 'release', 'releases', 'reli', 'reliable', 'relief', 'relive', 'reloaded', 'remapper', 'remind', 'reminder', 'remit', 'remitly', 'remix', 'remodel', 'remodelai', 'remote', 'remotix', 'remove', 'remover', 'renault', 'renovate', 'renovation', 'renpho', 'renshuu', 'rent', 'renta', 'rental', 'rentals', 'renters', 'rentredi', 'repair', 'replika', 'reply', 'report', 'reports', 'repository', 'request', 'res28', 'res49', 'rescue', 'research', 'residency', 'resident', 'residential', 'response', 'restaurant', 'restaurants', 'restora', 'restore', 'resume', 'retail', 'retirement', 'retouch', 'retro', 'reveri', 'reverse', 'reverso', 'revid', 'review', 'reviews', 'revive', 'revolut', 'revolution', 'reward', 'rewards', 'rezepte', 'rh', 'rhymes', 'rhymezone', 'rhyming', 'ria', 'rich', 'richie', 'riddles', 'ride', 'ridesync', 'right', 'ring', 'ringle', 'ringtone', 'ringtones', 'ripl', 'rise', 'rizz', 'rlcraft', 'rlookup', 'rm', 'rn', 'road', 'roadhouse', 'roadside', 'roadvault', 'roam', 'robbins', 'robert', 'robin', 'robinhood', 'roblox', 'robocall', 'robokiller', 'robox', 'rock', 'rocket', 'rodda', 'rodeo', 'roku', 'roleplay', 'roll', 'romance', 'romanfic', 'romantic', 'romeo', 'room', 'rooms', 'roomsketcher', 'root', 'rope', 'roping', 'rori', 'rose', 'rosetta', 'roughanimator', 'roulette', 'roundabout', 'routine', 'routines', 'row', 'royal', 'royale', 'rp', 'rpg', 'rsa', 'rsvp', 'rto', 'ruby', 'ruhavik', 'ruler', 'run', 'runkeeper', 'runna', 'runner', 'running', 'rusak', 'rusdate', 'rush', 'rushshort', 's20', 's4u', 's5', 's9', 'sad', 'safe', 'safeauth', 'safepilot', 'safetrip', 'safetynet', 'sago', 'sahm', 'saigon', 'saints', 'saiyan', 'sakura', 'salad', 'saldo', 'sale', 'sales', 'sally', 'salon', 'salt', 'salvage', 'sam', 'samokat', 'sampler', 'samsung', 'sandbox', 'sandwich', 'sandwiches', 'sandy', 'sankaku', 'sannce', 'santa', 'sap', 'sasha', 'sasuke', 'satellite', 'save', 'saver', 'savings', 'saylo', 'sbe', 'scale', 'scam', 'scan', 'scandit', 'scann', 'scanner', 'scare', 'scared', 'scary', 'scd', 'scenario', 'scene', 'scentbird', 'schedule', 'scheduler', 'schedules', 'scheduling', 'schlage', 'schlotzsky', 'school', 'scientific', 'scoopz', 'scooter', 'scope', 'score', 'scores', 'scout', 'scream', 'screen', 'screener', 'screens', 'screenshot', 'scribd', 'scribe', 'scroll', 'sculpt', 'sd', 'sdc', 'sdcard', 'sdk', 'sdm', 'se', 'seaart', 'search', 'searcher', 'seasonal', 'seat', 'seatgeek', 'seats', 'sec', 'second', 'seconds', 'secret', 'secure', 'secureline', 'securid', 'security', 'securus', 'seecitv', 'seed', 'seek', 'seeneva', 'seis', 'selective', 'self', 'selfcomic', 'selfie', 'selfies', 'selichos', 'sell', 'seller', 'selling', 'send', 'sender', 'sendwave', 'senior', 'seniors', 'sense', 'sensor', 'sentry', 'sephora', 'septa', 'sereal', 'serve', 'serverlife', 'servers', 'service', 'services', 'servsafe', 'sesame', 'session', 'sessions', 'settle', 'setup', 'seuss', 'sewing', 'sexy', 'sfst', 'sftp', 'shabbos', 'shack', 'shade', 'shadow', 'shahid', 'shake', 'shape', 'shapes', 'share', 'sharif', 'sharing', 'shark', 'sharp', 'sharper', 'shaving', 'shearshare', 'shed', 'sheet', 'sheets', 'shein', 'shell', 'sherwin', 'shib', 'shield', 'shift', 'shiftflow', 'shiftsmart', 'shine', 'shinobi', 'shipt', 'shirt', 'shirts', 'shmoody', 'shoes', 'shonen', 'shooting', 'shop', 'shopify', 'shopper', 'shopping', 'short', 'shortbread', 'shortform', 'shortmax', 'shorts', 'shortswave', 'shot', 'showami', 'showcase', 'showing', 'showingtime', 'showoff', 'shows', 'showtimes', 'shred', 'shrine', 'shudder', 'shueisha', 'shusher', 'shuteye', 'si', 'sibley', 'siddur', 'sidechef', 'sidekick', 'sideline', 'sides', 'sight', 'sign', 'signal', 'signals', 'signeasy', 'signing', 'silence', 'silhouette', 'silver', 'silversingles', 'sim', 'simmons', 'simp', 'simpl', 'simple', 'simpleconnect', 'simpler', 'simplex', 'simplicity', 'simplifi', 'simplified', 'simply', 'simplywise', 'simulate', 'simulation', 'simulations', 'simulator', 'sinc', 'sing', 'singing', 'single', 'singles', 'sip', 'siren', 'siriusxm', 'sister', 'sistine', 'site', 'size', 'sized', 'sizzlify', 'sjt', 'skedit', 'skelly', 'sketch', 'sketchar', 'sketches', 'sketchpad', 'skillcat', 'skills', 'skillshare', 'skin', 'skinape', 'skincare', 'skins', 'skoove', 'skritter', 'skull', 'sky', 'skyreels', 'skysafari', 'skytree', 'skyview', 'slednh', 'sleep', 'slice', 'slim', 'slimple', 'sling', 'slips', 'slots', 'sls', 'slumbercycle', 'small', 'smart', 'smartac', 'smarter', 'smarthome', 'smarthub', 'smartlink', 'smartly', 'smartrace', 'smartsheet', 'smarttag', 'smartwatch', 'smash', 'smoke', 'smokin', 'smoking', 'smoothie', 'sms', 'snack', 'snagajob', 'snakzy', 'snap', 'snapfax', 'snorelab', 'snoring', 'snowman', 'sns', 'sober', 'sobriety', 'soccer', 'social', 'sofi', 'soft', 'softphone', 'software', 'soho', 'sol', 'solana', 'solar', 'sollibyte', 'solo', 'solocator', 'sololearn', 'soltera', 'soluna', 'solution', 'solutions', 'solve', 'solver', 'solvo', 'somm', 'sommelier', 'song', 'songs', 'sonic', 'sonny', 'sony', 'sora', 'sorted', 'sos', 'soudfa', 'soul', 'soulgen', 'soulmate', 'sound', 'soundcloud', 'sounds', 'soundstorm', 'soup', 'source', 'sourdough', 'south', 'southern', 'spa', 'space', 'spam', 'spanish', 'spanishdictionary', 'spark', 'sparkreceipt', 'speak', 'specialty', 'spectrum', 'speech', 'speechify', 'speed', 'speedi', 'speedpay', 'speedster', 'spellai', 'spelling', 'spend', 'spendee', 'spending', 'spic', 'spicerack', 'spicy', 'spiders', 'spin', 'spirit', 'splashlearn', 'splashtop', 'split', 'splits', 'splitter', 'splurge', 'spoilme', 'spokeo', 'spoof', 'spoofcard', 'spooky', 'spoon', 'sport', 'sports', 'sporty', 'spotify', 'spreadsheet', 'spy', 'square', 'squire', 'sscp', 'ssh', 'st', 'stack', 'stadium', 'staffmark', 'stalking', 'standby', 'star', 'stardew', 'stardust', 'stardusttv', 'starlink', 'starmaker', 'starryai', 'stars', 'start', 'starting', 'starynovel', 'stash', 'state', 'states', 'stbemu', 'steak', 'steakhouse', 'steam', 'steezy', 'stellarium', 'step', 'steps', 'stepsapp', 'stepup', 'stew', 'stick', 'sticker', 'stickers', 'stickman', 'stinker', 'stinu', 'stir', 'stitch', 'stitchsketchex', 'stndrd', 'stock', 'stocks', 'stocktwits', 'stone', 'stop', 'stopper', 'storage', 'store', 'stores', 'stories', 'story', 'storyaholic', 'storybooks', 'storyfont', 'storyroom', 'storysome', 'storytel', 'stoxy', 'straight', 'strain', 'stranger', 'strava', 'stream', 'streaming', 'street', 'streeteasy', 'strength', 'stress', 'stretching', 'strip', 'stripe', 'strong', 'stronglifts', 'structures', 'stubhub', 'student', 'students', 'studio', 'studios', 'study', 'stuff', 'stuffkeeper', 'stunt', 'style', 'styles4nailz', 'styleseat', 'stylish', 'sub', 'sublimation', 'subs', 'subscription', 'subway', 'success', 'successfactors', 'sugar', 'suite', 'summaries', 'summary', 'sun', 'sunflowers', 'sunnyside', 'sunoco', 'super', 'supercook', 'superhero', 'superheroes', 'superlive', 'superpowers', 'supporter', 'supports', 'suras', 'sure', 'surgery', 'surprise', 'surprising', 'surveillance', 'survey', 'surveyor', 'surveys', 'survival', 'susan', 'sushi', 'svg', 'swag', 'swap', 'swapme', 'swapper', 'sweat', 'sweatcoin', 'sweepy', 'sweet', 'sweetmeet', 'sweets', 'swift', 'swig', 'swiggy', 'swing', 'swingers', 'switch', 'switcher', 'sword', 'symbolab', 'sympla', 'symptom', 'sync', 'syncup', 'sypartners', 'systm', 't65', 'ta', 'table', 'tablet', 'tablets', 'tabs', 'tabtrader', 'taco', 'tactical', 'tafsir', 'tag', 'tagged', 'taghalal', 'taimi', 'taker', 'talabat', 'talabatey', 'taleon', 'tales', 'talk', 'talk360', 'talkatone', 'talker', 'talkie', 'talking', 'talkingpoints', 'tall', 'tallflix', 'tandem', 'tangle', 'tango', 'tap', 'tapas', 'tape', 'tapeacall', 'tapgroom', 'tapping', 'tappytoon', 'tapread', 'tapstyle', 'taptap', 'tarde', 'tardes', 'tarnished', 'tarot', 'tarteel', 'taski', 'taskrabbit', 'taste', 'tastematch', 'tastes', 'tattoo', 'tax', 'taxbird', 'taxi', 'taxicontroller', 'tayasui', 'tc', 'tci', 'tcl', 'td', 'tdn', 'tduk', 'tea', 'teacher', 'team', 'teamo', 'teams', 'teamspeak', 'teamviewer', 'teamworx', 'teardown', 'teas', 'tecdoc', 'tech', 'technician', 'teen', 'teeter', 'telehealth', 'telemundo', 'temp', 'temperature', 'template', 'templates', 'temporary', 'tempt', 'temu', 'tenants', 'tennessee', 'tenstreet', 'teradata', 'teriyaki', 'terminal', 'termius', 'terramar', 'tesla', 'teslacam', 'test', 'testers', 'testerup', 'testi', 'testing', 'tethering', 'texas', 'text', 'textapp', 'texting', 'textme', 'textnow', 'textra', 'textreader', 'texts', 'texture', 'teyes', 'tgp', 'th', 'thai', 'thaicupid', 'thailand', 'thats', 'thc', 'theaterears', 'theatre', 'theatres', 'thefork', 'theft', 'theme', 'themes', 'theory', 'therapy', 'thermometer', 'thesaurus', 'things', 'thinkdiag', 'thinkrolls', 'thousand', 'thread', 'threema', 'threesome', 'threesomes', 'thrift', 'thriftbooks', 'thrillers', 'thrive', 'thumbnail', 'thumbtack', 'thunder', 'thunderbird', 'thunderstorm', 'thursday', 'ti', 'ticket', 'tickets', 'ticketsmarter', 'ticketswap', 'ticketón', 'tickpick', 'tidal', 'tidy', 'tiff', 'tiger', 'tile', 'tiles', 'tilla', 'tim', 'time', 'timeless', 'timer', 'times', 'timesheet', 'timny', 'tinder', 'ting', 'tinker', 'tinnitus', 'tintin', 'tiny', 'tinycam', 'tinytap', 'tinyview', 'tip', 'tipranks', 'tips', 'tipsee', 'tire', 'tires', 'tixr', 'tlc', 'tlv', 'tmolector', 'tna', 'toast', 'toca', 'today', 'todaytix', 'toddler', 'toddlers', 'tody', 'toilet', 'toll', 'ton', 'tonalenergy', 'tone', 'tonight', 'tonkeeper', 'toobit', 'toofar', 'tool', 'toolbox', 'toolkit', 'tools', 'toomics', 'toons', 'toonsutra', 'topdeck', 'topps', 'tor', 'torch', 'torque', 'torrent', 'toshl', 'total', 'toters', 'touch', 'tour', 'tours', 'tower', 'town', 'towtaled', 'tp', 'tpcamera', 'tpilot', 'tps', 'trace', 'tracer', 'tracfone', 'tracing', 'track', 'tracker', 'tracking', 'trackwallet', 'tractor', 'trade', 'trademap', 'tradepad', 'trader', 'trades', 'trading', 'tradingview', 'traducción', 'traffic', 'trail', 'trailer', 'train', 'trainer', 'training', 'transact', 'transfer', 'transfers', 'transformation', 'transgender', 'translate', 'translateasy', 'translation', 'translator', 'transunion', 'travel', 'treats', 'tree', 'trek', 'trend', 'tri', 'tribe', 'tricks', 'tricon', 'trident', 'trinity', 'trip', 'triple', 'tripleten', 'trips', 'tropical', 'troveskin', 'trovit', 'truck', 'trucker', 'trucksmarter', 'true', 'truecaller', 'truecar', 'truist', 'trulia', 'trulysmall', 'trumate', 'trust', 'truth', 'trx', 'try', 'ts', 'tshirt', 'tsp', 'tts', 'tu', 'tubi', 'tune', 'tuner', 'turbo', 'turbolearn', 'turboscan', 'turbotenant', 'turkey', 'turn', 'tutor', 'tutorial', 'tv', 'tvv', 'twilight', 'twinme', 'twiq', 'twitch', 'type', 'typing', 'typology', 'u4bear', 'uae', 'uber', 'udemy', 'ugly', 'ui', 'uk', 'ukaku', 'ukg', 'uknow', 'ukraine', 'ukrainedate', 'ukrainian', 'ukulele', 'ulta', 'ultimate', 'ultra', 'ultrapro', 'umagic', 'umami', 'umatch', 'umax', 'umi', 'umr', 'unacademy', 'unation', 'undelete', 'unest', 'unicorn', 'unidream', 'unified', 'unifyd', 'union', 'unique', 'unive', 'universal', 'universe', 'university', 'univision', 'unknown', 'unlimited', 'unlisted', 'unlock', 'unlocker', 'unni', 'unofficial', 'unroot', 'untappd', 'unusual', 'update', 'uphold', 'upi', 'uplife', 'upstudy', 'upward', 'upwork', 'ur', 'urban', 'urbanclap', 'urdu', 'urent', 'usa', 'usa149', 'usaa', 'usb', 'uscg', 'usdt', 'used', 'ushud', 'usps', 'utility', 'ux', 'uñas', 'v1', 'v2', 'vacation', 'vadtal', 'vag', 'vagaro', 'vaib', 'val', 'valera', 'valley', 'valspar', 'valuables', 'valvoline', 'vantaca', 'varo', 'vault', 'vector', 'vectorvest', 'vee', 'vegan', 'veggie', 'veggly', 'vehicle', 'vehicles', 'veho', 'venterra', 'venues', 'verb', 'verification', 'verizon', 'vero', 'verse', 'verses', 'version', 'verticons', 'veryable', 'vet', 'vewd', 'vhs', 'vibe', 'viber', 'vibration', 'vibrator', 'vicohome', 'vidaa', 'video', 'videos', 'vids', 'vietnam', 'vietnamcupid', 'view', 'viewer', 'viki', 'vikiroom', 'vikk', 'vin', 'vinaigrettes', 'vinci', 'vip', 'virgin', 'virginia', 'virtual', 'virtunum', 'visible', 'visio', 'visions', 'visitors', 'visits', 'visory', 'vistacreate', 'visual', 'visualizer', 'visually', 'vitae', 'vitonica', 'vivaldi', 'vivenu', 'vivid', 'vivino', 'vivo', 'vix', 'viz', 'vizio', 'vlad', 'vlogger', 'vloveis', 'vnc', 'vocab', 'vocabulary', 'vocal', 'voctiv', 'vogue', 'vogueshot', 'voi', 'voice', 'voicemail', 'voices', 'voip', 'vokabelbox', 'vola', 'volkron', 'voltage', 'volume', 'volvo', 'vooks', 'voting', 'vows', 'voxer', 'voyager', 'voyceme', 'vpn', 'vr', 'vrbo', 'vridge', 'vsd', 'vsim', 'vtubers', 'vw', 'vyke', 'w263', 'w6', 'wabi', 'wacky', 'wafa', 'wagotabi', 'wahoo', 'waiter', 'waking', 'walk', 'walker', 'walkfit', 'walkie', 'walking', 'walkout', 'walktask', 'wall', 'wallet', 'wallpaper', 'wallpapers', 'walls', 'walmart', 'wamr', 'war', 'warbler', 'wardencam', 'wars', 'wash', 'waste', 'wasticker', 'watch', 'watcher', 'watchface', 'watchfree', 'water', 'watermark', 'wattpad', 'wave', 'waves', 'way', 'waybetter', 'wayfair', 'waze', 'wd129', 'weapon', 'weapons', 'wear', 'wearables', 'wearfit', 'weather', 'weaverland', 'web', 'webcomics', 'webfic', 'webnov', 'webnovels', 'webos', 'webread', 'webster', 'webtoons', 'webull', 'webview', 'wecomics', 'wedding', 'weddingwire', 'wedguest', 'weed', 'weee', 'weekly', 'weezer', 'wegmans', 'wehear', 'weight', 'weightwatchers', 'wellnesspal', 'wells', 'wellsite', 'welltory', 'wendy', 'weplay', 'weread', 'werewolf', 'western', 'westinghouse', 'wetland', 'wetv', 'weward', 'wfp', 'whakoom', 'whales', 'whatcolors', 'whatsapp', 'wheel', 'wheels', 'whirlwind', 'whisperfm', 'white', 'whitepages', 'whitney', 'wholesale', 'wholesome', 'whoscall', 'whova', 'wi', 'widget', 'widgets', 'widgetupdater', 'widower', 'wifi', 'wigs', 'wild', 'wildfire', 'wildman', 'williams', 'wim', 'win', 'windstream', 'wine', 'winemasters', 'wingr', 'wings', 'winwalk', 'wireless', 'wiresizer', 'wiring', 'wisdom', 'wiser', 'wish', 'wishes', 'withings', 'wives', 'wiz', 'wizard', 'wizart', 'wjdiag', 'wolf', 'wolffiction', 'wolt', 'wolves', 'woman', 'womanlog', 'wombo', 'women', 'wonder', 'wooask', 'woodforest', 'woofz', 'woomax', 'wooplus', 'word', 'wordbit', 'words', 'work', 'workers', 'workforce', 'workinghours', 'worknow', 'workout', 'workouts', 'workplace', 'works', 'world', 'worlds', 'wow', 'wownovel', 'wp', 'wpm', 'wrap', 'write', 'writer', 'writing', 'written', 'wwt', 'wyze', 'wz', 'x84', 'xauusd', 'xb', 'xbrowser', 'xbxplay', 'xcel', 'xena', 'xfmr', 'xfun', 'xiaomi', 'xkcd', 'xmpp', 'xoom', 'xp', 'xpectations', 'xr', 'xrp', 'xscan', 'xtract', 'xumo', 'xxxx', 'yacreader', 'yahoo', 'yaja', 'yakopro', 'yalla', 'yama', 'yandex', 'yaoi', 'yaomic', 'yard', 'yasnac', 'yaychat', 'yazio', 'yboo', 'yds', 'yeah', 'yellow', 'yelp', 'yeoti', 'yes', 'yesoul', 'yestory', 'yesway', 'yi', 'yify', 'yippee', 'yo', 'yoga', 'yolla', 'yolo', 'yonder', 'yoomee', 'york', 'youcam', 'youflirt', 'youku', 'youmail', 'youneek', 'youniverse', 'yourtravelmates', 'yousician', 'youtube', 'youversion', 'yowin', 'yoyo', 'ysos', 'yugioh', 'yuka', 'yum', 'yummly', 'zain', 'zangi', 'zap', 'zbd', 'zebra', 'zedge', 'zello', 'zendate', 'zengo', 'zepeto', 'zepto', 'zero', 'zerobooks', 'zettle', 'zillow', 'zing', 'zintego', 'ziprecruiter', 'zodel', 'zodiac', 'zoho', 'zoiper', 'zomato', 'zombies', 'zones', 'zoom', 'zoomon', 'zoosk', 'zoya', 'zrx', 'zulu', 'zumba', 'zumper', 'zus', 'zutobi', 'zwift', 'µtorrent', 'ötzi', 'авто', 'алисой', 'аудиокниги', 'базе', 'билеты', 'вкусвилл', 'він', 'дом', 'доставка', 'дром', 'знакомства', 'квартиры', 'книги', 'лизогуба', 'недвижимость', 'номерам', 'пдд', 'перевірка', 'перекресток', 'по', 'побег', 'проверка', 'продуктов', 'пятёрочка', 'рф', 'рядом', 'сl', 'советы', 'строки', 'фотографией', 'циан', 'чат', 'штрафы', 'экзамен', 'סדור', 'סליחות', 'آموزش', 'آنلاین', 'آچاره', 'آیچ', 'أذان', 'أذكار', 'ألعاب', 'أنثى', 'ابابيل', 'اردو', 'اعلام', 'الازرق', 'الاصلي', 'الجديد', 'الجزائري', 'الجزيرة', 'الحسابات', 'الخطوط', 'الدوري', 'الذهبي', 'السنجاب', 'العقيدة', 'القاعدة', 'القدم', 'القرآن', 'القران', 'الكتابة', 'الكريم', 'المانجا', 'النورانية', 'الکترونیک', 'انترنت', 'انواع', 'انگلیسی', 'ايمو', 'ای', 'با', 'باب', 'بار', 'بث', 'بدون', 'بكل', 'بلاير', 'بوربوينت', 'تدارس', 'ترابرنت', 'ترتيل', 'تعارف', 'تعمیرات', 'تلویزیون', 'تلگرام', 'توب', 'جاكو', 'جاهزة', 'جديد', 'جديدة', 'حرفه', 'حلقات', 'ختمة', 'خدمات', 'داستان', 'در', 'دردشة', 'دق', 'دوست', 'دوستانه', 'دوستیابی', 'رانندگان', 'رواية', 'روم', 'زبان', 'زخرفة', 'زواج', 'سؤال', 'ستار', 'سەرپێچی', 'شاعری', 'شماره', 'شکن', 'صوتی', 'طلایی', 'طلباتي', 'عمر', 'غرامات', 'فارسی', 'في', 'فیلتر', 'قصص', 'قوالب', 'قوی', 'قیصی', 'كامل', 'كتاب', 'كرة', 'كرتون', 'كورة', 'كوميكس', 'لايف', 'لرنیت', 'لكرة', 'للصغار', 'ماتش', 'مانجا', 'مانجاميلو', 'ماهواره', 'مباريات', 'مباشر', 'مدونة', 'مرورية', 'مزاحم', 'مصحف', 'مكتبة', 'من', 'منزل', 'منصور', 'موبوگرام', 'ناولې', 'هرلایف', 'هنداوي', 'واتس', 'واتساب', 'واژه', 'وجواب', 'ودردشة', 'ويبلاي', 'پرسرعت', 'پښتو', 'چت', 'کتاب', 'کتابراه', 'یاب', 'یابی', 'इड', 'जन', 'टक', 'नक', 'सभ', 'ইজল', 'পশন', 'การ', 'งส', 'นฮวา', 'นและน', 'บต', 'ยายด', 'ยายออนไลน', 'หน', 'อด', 'เว', 'ခဒ', 'တစ', 'ማውጫ', 'ቀን', 'ቁም', 'በዓላትና', 'ነገር', 'ご飯をおいしく', 'みんなが作ってる料理レシピで', 'みんなのマンガアプリ', 'クックパッド', 'クラシル', 'デリッシュキッチン', 'ビューティーサロン検索', 'ヘア', 'ホットペッパービューティー', 'マンガ', 'レシピ', 'レシピ動画で料理がおいしく作れる', 'レシピ動画で料理を簡単', 'レンタル漫画アプリ', '两颗红豆', '二次元超快看漫畫', '全民party', '八字流年', '八字算命', '唱歌', '得到', '愛料理', '料理のプロが献立レシピを毎日提案', '正版授權網漫', '毎日の献立に', '游戏', '漫客棧', '漫画', '漫畫集', '生肖運勢', '生辰八字命盤解析', '知识就在得到', '線上算命', '美食自己做', '聊天', '语音交友', '追漫神器', '饭团外卖', '검증기반', '골드스푼', '공부', '네이버', '누구나', '달러리치', '달러투자', '데이팅앱', '독서와', '독서의', '라이브', '리디', '리스닝', '만화', '말해보카', '모두', '모든', '무제한', '문법', '문피아', '미스터블루', '밀리의', '바비톡', '병원예약', '서재', '성형', '성형어플', '성형외과', '소설', '소설앱', '쉽게', '스피킹', '시술', '알라딘', '여기에', '영단어', '영어', '웹소설', '웹소설의', '웹툰', '윌라', '유토피아', '인터넷만화방', '인터넷서점', '전자책', '즐기는', '친해지리', '클럽', '피부과', '필수', '하이엔드', '환율계산기', 'ﺷﺎﻫﺪ', 'ｒｅｎｔａ'] not in stop_words.\n",
      "  warnings.warn(\n"
     ]
    }
   ],
   "source": [
    "# 7. TF-IDF 기반 주요 키워드 추출 함수\n",
    "vectorizer = TfidfVectorizer(stop_words=stop_words, max_features=1000)\n",
    "tfidf_matrix = vectorizer.fit_transform(apps_data['description'])\n",
    "\n",
    "def get_top_keywords(tfidf_matrix, clusters, top_n=5):\n",
    "    cluster_centers = np.zeros((np.unique(clusters).size, tfidf_matrix.shape[1]))\n",
    "    \n",
    "    for cluster in np.unique(clusters):\n",
    "        cluster_centers[cluster] = tfidf_matrix[clusters == cluster].mean(axis=0)\n",
    "    \n",
    "    terms = vectorizer.get_feature_names_out()\n",
    "    top_keywords = []\n",
    "    \n",
    "    for cluster in range(cluster_centers.shape[0]):\n",
    "        center = cluster_centers[cluster]\n",
    "        top_indices = center.argsort()[::-1][:top_n]\n",
    "        keywords = [terms[i] for i in top_indices]\n",
    "        top_keywords.append(keywords)\n",
    "    \n",
    "    return top_keywords"
   ]
  },
  {
   "cell_type": "code",
   "execution_count": 12,
   "metadata": {},
   "outputs": [],
   "source": [
    "# 6. 클러스터별 상위 5개 키워드 추출\n",
    "top_keywords_per_cluster = get_top_keywords(tfidf_matrix, clusters, top_n=5)\n",
    "\n"
   ]
  },
  {
   "cell_type": "code",
   "execution_count": 13,
   "metadata": {},
   "outputs": [],
   "source": [
    "# 7. 키워드 기반으로 상위 카테고리 이름 생성\n",
    "def generate_category_name(keywords):\n",
    "    return \" & \".join(keywords[:2])  # 상위 2개의 키워드를 연결하여 이름 생성\n",
    "\n"
   ]
  },
  {
   "cell_type": "code",
   "execution_count": 14,
   "metadata": {},
   "outputs": [],
   "source": [
    "# 9. WordNet을 사용하여 키워드를 일반화하는 함수\n",
    "from nltk.corpus import wordnet"
   ]
  },
  {
   "cell_type": "code",
   "execution_count": 15,
   "metadata": {},
   "outputs": [],
   "source": [
    "def generalize_word(word):\n",
    "    synsets = wordnet.synsets(word)\n",
    "    if synsets:\n",
    "        # 첫 번째 동의어 집합을 사용하여 일반화\n",
    "        hypernyms = synsets[0].hypernyms()\n",
    "        if hypernyms:\n",
    "            return hypernyms[0].lemmas()[0].name()  # 가장 일반적인 상위 단어 반환\n",
    "    return word  # 동의어 집합이 없으면 원래 단어 반환"
   ]
  },
  {
   "cell_type": "code",
   "execution_count": 16,
   "metadata": {},
   "outputs": [],
   "source": [
    "# 10. 키워드 기반으로 상위 카테고리 이름 생성\n",
    "def generate_category_name(keywords):\n",
    "    generalized_keywords = [generalize_word(kw) for kw in keywords]\n",
    "    return \" & \".join(generalized_keywords[:2])  # 상위 2개의 일반화된 키워드를 연결"
   ]
  },
  {
   "cell_type": "code",
   "execution_count": 17,
   "metadata": {},
   "outputs": [
    {
     "name": "stdout",
     "output_type": "stream",
     "text": [
      "Cluster 0 Name: agency & representation\n",
      "Cluster 1 Name: case & activity\n",
      "Cluster 2 Name: linguistic_process & sacred_text\n",
      "Cluster 3 Name: chemical_analysis & conversation\n"
     ]
    }
   ],
   "source": [
    "# 11. 클러스터별 상위 카테고리 이름 생성 및 출력\n",
    "for cluster_num, keywords in enumerate(top_keywords_per_cluster):\n",
    "    category_name = generate_category_name(keywords)\n",
    "    print(f\"Cluster {cluster_num} Name: {category_name}\")\n"
   ]
  },
  {
   "cell_type": "code",
   "execution_count": 18,
   "metadata": {},
   "outputs": [],
   "source": [
    "# 12. 클러스터 이름을 데이터프레임에 추가\n",
    "for cluster_num, keywords in enumerate(top_keywords_per_cluster):\n",
    "    category_name = generate_category_name(keywords)\n",
    "    apps_data.loc[apps_data['Cluster'] == cluster_num, 'Super_Category'] = category_name\n"
   ]
  },
  {
   "cell_type": "code",
   "execution_count": 19,
   "metadata": {},
   "outputs": [
    {
     "name": "stdout",
     "output_type": "stream",
     "text": [
      "                                 title          category  \\\n",
      "0                                title          category   \n",
      "1                      Google Messages     Communication   \n",
      "2                               TikTok            Social   \n",
      "3        Temu: Shop Like a Billionaire          Shopping   \n",
      "4                              Threads            Social   \n",
      "...                                ...               ...   \n",
      "104737                 Apple tv Remote  Libraries & Demo   \n",
      "104738               Ağlatan Hikayeler  Libraries & Demo   \n",
      "104739  kubenav - Kubernetes Dashboard  Libraries & Demo   \n",
      "104740                Why Not Compose!  Libraries & Demo   \n",
      "104741            قوالب بوربوينت جاهزة  Libraries & Demo   \n",
      "\n",
      "                                              description  Cluster  \\\n",
      "0                                             description        0   \n",
      "1       Google Messages is the official Google app for...        3   \n",
      "2       TikTok is THE destination for mobile videos. O...        0   \n",
      "3       Shop on Temu for exclusive offers. \\n\\nNo matt...        1   \n",
      "4       Say more with Threads — Instagram’s text-based...        3   \n",
      "...                                                   ...      ...   \n",
      "104737  Apple TV Remote is a remote control app for yo...        1   \n",
      "104738  Thousands divided into categories to make it i...        2   \n",
      "104739  kubenav is a mobile app to manage Kubernetes c...        1   \n",
      "104740  An open-source collection of animations, compo...        0   \n",
      "104741  Free PowerPoint templates and ready-made Power...        0   \n",
      "\n",
      "                          Super_Category  \n",
      "0                agency & representation  \n",
      "1       chemical_analysis & conversation  \n",
      "2                agency & representation  \n",
      "3                        case & activity  \n",
      "4       chemical_analysis & conversation  \n",
      "...                                  ...  \n",
      "104737                   case & activity  \n",
      "104738  linguistic_process & sacred_text  \n",
      "104739                   case & activity  \n",
      "104740           agency & representation  \n",
      "104741           agency & representation  \n",
      "\n",
      "[104742 rows x 5 columns]\n"
     ]
    }
   ],
   "source": [
    "# 10. 결과 확인\n",
    "print(apps_data[['title', 'category', 'description', 'Cluster', 'Super_Category']])"
   ]
  },
  {
   "cell_type": "code",
   "execution_count": 20,
   "metadata": {},
   "outputs": [],
   "source": [
    "# clustering 'clustered_apps_data.csv' 파일로 저장\n",
    "apps_data.to_csv('clustered_apps_data.csv', index=False)"
   ]
  },
  {
   "cell_type": "code",
   "execution_count": 21,
   "metadata": {},
   "outputs": [],
   "source": [
    "# clustering 'clustered_apps_data.csv' 파일로 저장\n",
    "apps_data.to_excel('clustered_apps_data.xlsx', index=False)"
   ]
  },
  {
   "cell_type": "markdown",
   "metadata": {},
   "source": [
    "# WordNet"
   ]
  },
  {
   "cell_type": "code",
   "execution_count": 22,
   "metadata": {},
   "outputs": [],
   "source": [
    "# 2. WordNet을 사용하여 키워드의 상위 개념을 찾는 함수\n",
    "def get_hypernyms(word):\n",
    "    synsets = wn.synsets(word)\n",
    "    if synsets:\n",
    "        hypernyms = synsets[0].hypernyms()\n",
    "        if hypernyms:\n",
    "            return hypernyms[0].lemmas()[0].name()  # 첫 번째 상위 개념 반환\n",
    "    return word  # 상위 개념이 없으면 원래 단어 반환"
   ]
  },
  {
   "cell_type": "code",
   "execution_count": 23,
   "metadata": {},
   "outputs": [],
   "source": [
    "# 3. 키워드를 상위 개념으로 변환하는 함수\n",
    "def generalize_keywords(keywords):\n",
    "    generalized_keywords = [get_hypernyms(word) for word in keywords]\n",
    "    return generalized_keywords\n"
   ]
  },
  {
   "cell_type": "code",
   "execution_count": 24,
   "metadata": {},
   "outputs": [
    {
     "name": "stderr",
     "output_type": "stream",
     "text": [
      "c:\\Users\\user\\AppData\\Local\\Programs\\Python\\Python38\\lib\\site-packages\\transformers\\tokenization_utils_base.py:1617: FutureWarning: `clean_up_tokenization_spaces` was not set. It will be set to `True` by default. This behavior will be deprecated in transformers v4.45, and will be then set to `False` by default. For more details check this issue: https://github.com/huggingface/transformers/issues/31884\n",
      "  warnings.warn(\n"
     ]
    }
   ],
   "source": [
    "# 4. Sentence-BERT 모델 로드 및 문장 임베딩 생성\n",
    "model = SentenceTransformer('all-MiniLM-L6-v2')\n",
    "embeddings = model.encode(apps_data['description'].values)\n"
   ]
  },
  {
   "cell_type": "code",
   "execution_count": 25,
   "metadata": {},
   "outputs": [
    {
     "name": "stderr",
     "output_type": "stream",
     "text": [
      "c:\\Users\\user\\AppData\\Local\\Programs\\Python\\Python38\\lib\\site-packages\\sklearn\\cluster\\_kmeans.py:1416: FutureWarning: The default value of `n_init` will change from 10 to 'auto' in 1.4. Set the value of `n_init` explicitly to suppress the warning\n",
      "  super()._check_params_vs_input(X, default_n_init=10)\n"
     ]
    }
   ],
   "source": [
    "# 5. K-Means 클러스터링 수행\n",
    "n_clusters = 5\n",
    "kmeans = KMeans(n_clusters=n_clusters, random_state=42)\n",
    "clusters = kmeans.fit_predict(embeddings)"
   ]
  },
  {
   "cell_type": "code",
   "execution_count": 26,
   "metadata": {},
   "outputs": [],
   "source": [
    "# 7. TF-IDF 기반 주요 키워드 추출\n",
    "vectorizer = TfidfVectorizer(stop_words='english', max_features=1000)\n",
    "tfidf_matrix = vectorizer.fit_transform(apps_data['description'])\n",
    "\n",
    "def get_top_keywords(tfidf_matrix, clusters, top_n=5):\n",
    "    cluster_centers = np.zeros((np.unique(clusters).size, tfidf_matrix.shape[1]))\n",
    "    \n",
    "    for cluster in np.unique(clusters):\n",
    "        cluster_centers[cluster] = tfidf_matrix[clusters == cluster].mean(axis=0)\n",
    "    \n",
    "    terms = vectorizer.get_feature_names_out()\n",
    "    top_keywords = []\n",
    "    \n",
    "    for cluster in range(cluster_centers.shape[0]):\n",
    "        center = cluster_centers[cluster]\n",
    "        top_indices = center.argsort()[::-1][:top_n]\n",
    "        keywords = [terms[i] for i in top_indices]\n",
    "        top_keywords.append(keywords)\n",
    "    \n",
    "    return top_keywords"
   ]
  },
  {
   "cell_type": "code",
   "execution_count": 27,
   "metadata": {},
   "outputs": [],
   "source": [
    "# 8. 클러스터별 상위 5개 키워드 추출\n",
    "top_keywords_per_cluster = get_top_keywords(tfidf_matrix, clusters, top_n=5)"
   ]
  },
  {
   "cell_type": "code",
   "execution_count": 28,
   "metadata": {},
   "outputs": [],
   "source": [
    "# 9. 상위 개념 기반 카테고리 이름 생성\n",
    "def generate_category_name(keywords):\n",
    "    generalized_keywords = generalize_keywords(keywords)\n",
    "    return \" & \".join(set(generalized_keywords[:2]))  # 중복되지 않은 상위 2개의 단어"
   ]
  },
  {
   "cell_type": "code",
   "execution_count": 29,
   "metadata": {},
   "outputs": [
    {
     "name": "stdout",
     "output_type": "stream",
     "text": [
      "Cluster 0 Name: electronic_equipment & app\n",
      "Cluster 1 Name: chemical_analysis & conversation\n",
      "Cluster 2 Name: linguistic_process & sacred_text\n",
      "Cluster 3 Name: representation & agency\n",
      "Cluster 4 Name: consequence & app\n"
     ]
    }
   ],
   "source": [
    "# 10. 클러스터별 상위 카테고리 이름 생성 및 출력\n",
    "for cluster_num, keywords in enumerate(top_keywords_per_cluster):\n",
    "    category_name = generate_category_name(keywords)\n",
    "    print(f\"Cluster {cluster_num} Name: {category_name}\")\n"
   ]
  },
  {
   "cell_type": "markdown",
   "metadata": {},
   "source": [
    "# Cosine Similarity"
   ]
  },
  {
   "cell_type": "code",
   "execution_count": 30,
   "metadata": {},
   "outputs": [],
   "source": [
    "# 5. TF-IDF 기반 주요 키워드 추출\n",
    "vectorizer = TfidfVectorizer(stop_words='english', max_features=1000)\n",
    "tfidf_matrix = vectorizer.fit_transform(apps_data['description'])\n",
    "\n",
    "def get_top_keywords(tfidf_matrix, clusters, top_n=5):\n",
    "    cluster_centers = np.zeros((np.unique(clusters).size, tfidf_matrix.shape[1]))\n",
    "    \n",
    "    for cluster in np.unique(clusters):\n",
    "        cluster_centers[cluster] = tfidf_matrix[clusters == cluster].mean(axis=0)\n",
    "    \n",
    "    terms = vectorizer.get_feature_names_out()\n",
    "    top_keywords = []\n",
    "    \n",
    "    for cluster in range(cluster_centers.shape[0]):\n",
    "        center = cluster_centers[cluster]\n",
    "        top_indices = center.argsort()[::-1][:top_n]\n",
    "        keywords = [terms[i] for i in top_indices]\n",
    "        top_keywords.append(keywords)\n",
    "    \n",
    "    return top_keywords"
   ]
  },
  {
   "cell_type": "code",
   "execution_count": 31,
   "metadata": {},
   "outputs": [],
   "source": [
    "# 6. 클러스터별 상위 5개 키워드 추출\n",
    "top_keywords_per_cluster = get_top_keywords(tfidf_matrix, clusters, top_n=5)"
   ]
  },
  {
   "cell_type": "code",
   "execution_count": 32,
   "metadata": {},
   "outputs": [],
   "source": [
    "# 7. 각 키워드를 임베딩하여 벡터 생성\n",
    "def get_keyword_embedding(keywords):\n",
    "    return model.encode(keywords)"
   ]
  },
  {
   "cell_type": "code",
   "execution_count": 33,
   "metadata": {},
   "outputs": [],
   "source": [
    "# 8. Cosine Similarity를 사용하여 중심 단어 선택\n",
    "def select_representative_word(keywords):\n",
    "    keyword_embeddings = get_keyword_embedding(keywords)\n",
    "    similarity_matrix = cosine_similarity(keyword_embeddings)\n",
    "\n",
    "    # 각 단어의 유사도 합 계산\n",
    "    similarity_sums = similarity_matrix.sum(axis=1)\n",
    "    \n",
    "    # 유사도 합이 가장 큰 단어를 대표 단어로 선택\n",
    "    representative_idx = np.argmax(similarity_sums)\n",
    "    return keywords[representative_idx]"
   ]
  },
  {
   "cell_type": "code",
   "execution_count": 34,
   "metadata": {},
   "outputs": [],
   "source": [
    "# 9. 클러스터별 대표 단어 생성\n",
    "def generate_category_name(keywords):\n",
    "    return select_representative_word(keywords)"
   ]
  },
  {
   "cell_type": "code",
   "execution_count": 35,
   "metadata": {},
   "outputs": [
    {
     "name": "stdout",
     "output_type": "stream",
     "text": [
      "Cluster 0 Name: phone\n",
      "Cluster 1 Name: chat\n",
      "Cluster 2 Name: reading\n",
      "Cluster 3 Name: design\n",
      "Cluster 4 Name: card\n"
     ]
    }
   ],
   "source": [
    "# 10. 클러스터별 대표 단어 생성 및 출력\n",
    "for cluster_num, keywords in enumerate(top_keywords_per_cluster):\n",
    "    category_name = generate_category_name(keywords)\n",
    "    print(f\"Cluster {cluster_num} Name: {category_name}\")\n"
   ]
  },
  {
   "cell_type": "code",
   "execution_count": 36,
   "metadata": {},
   "outputs": [],
   "source": [
    "# 11. 클러스터 이름을 데이터프레임에 추가\n",
    "for cluster_num, keywords in enumerate(top_keywords_per_cluster):\n",
    "    category_name = generate_category_name(keywords)\n",
    "    apps_data.loc[apps_data['Cluster'] == cluster_num, 'Super_Category'] = category_name\n"
   ]
  },
  {
   "cell_type": "code",
   "execution_count": 37,
   "metadata": {},
   "outputs": [
    {
     "name": "stdout",
     "output_type": "stream",
     "text": [
      "                                 title          category  \\\n",
      "0                                title          category   \n",
      "1                      Google Messages     Communication   \n",
      "2                               TikTok            Social   \n",
      "3        Temu: Shop Like a Billionaire          Shopping   \n",
      "4                              Threads            Social   \n",
      "...                                ...               ...   \n",
      "104737                 Apple tv Remote  Libraries & Demo   \n",
      "104738               Ağlatan Hikayeler  Libraries & Demo   \n",
      "104739  kubenav - Kubernetes Dashboard  Libraries & Demo   \n",
      "104740                Why Not Compose!  Libraries & Demo   \n",
      "104741            قوالب بوربوينت جاهزة  Libraries & Demo   \n",
      "\n",
      "                                              description  Cluster  \\\n",
      "0                                             description        0   \n",
      "1       Google Messages is the official Google app for...        3   \n",
      "2       TikTok is THE destination for mobile videos. O...        0   \n",
      "3       Shop on Temu for exclusive offers. \\n\\nNo matt...        1   \n",
      "4       Say more with Threads — Instagram’s text-based...        3   \n",
      "...                                                   ...      ...   \n",
      "104737  Apple TV Remote is a remote control app for yo...        1   \n",
      "104738  Thousands divided into categories to make it i...        2   \n",
      "104739  kubenav is a mobile app to manage Kubernetes c...        1   \n",
      "104740  An open-source collection of animations, compo...        0   \n",
      "104741  Free PowerPoint templates and ready-made Power...        0   \n",
      "\n",
      "       Super_Category  \n",
      "0               phone  \n",
      "1              design  \n",
      "2               phone  \n",
      "3                chat  \n",
      "4              design  \n",
      "...               ...  \n",
      "104737           chat  \n",
      "104738        reading  \n",
      "104739           chat  \n",
      "104740          phone  \n",
      "104741          phone  \n",
      "\n",
      "[104742 rows x 5 columns]\n"
     ]
    }
   ],
   "source": [
    "# 결과 확인\n",
    "print(apps_data[['title', 'category', 'description', 'Cluster', 'Super_Category']])\n"
   ]
  },
  {
   "cell_type": "code",
   "execution_count": 38,
   "metadata": {},
   "outputs": [
    {
     "name": "stderr",
     "output_type": "stream",
     "text": [
      "c:\\Users\\user\\AppData\\Local\\Programs\\Python\\Python38\\lib\\site-packages\\transformers\\tokenization_utils_base.py:1617: FutureWarning: `clean_up_tokenization_spaces` was not set. It will be set to `True` by default. This behavior will be deprecated in transformers v4.45, and will be then set to `False` by default. For more details check this issue: https://github.com/huggingface/transformers/issues/31884\n",
      "  warnings.warn(\n"
     ]
    },
    {
     "name": "stdout",
     "output_type": "stream",
     "text": [
      "(104742, 384)\n",
      "[[-0.01717039  0.14092764 -0.00787549 ...  0.11699603 -0.00353066\n",
      "  -0.01411287]\n",
      " [-0.0468857  -0.03969275  0.12062863 ...  0.03706462 -0.04091983\n",
      "  -0.04607415]\n",
      " [-0.08838934 -0.01335814  0.04051472 ...  0.06879997 -0.01539475\n",
      "   0.04982326]\n",
      " ...\n",
      " [ 0.00708288  0.06026745 -0.00740675 ...  0.00765995 -0.01902615\n",
      "   0.03554336]\n",
      " [-0.08424091 -0.09615403  0.02267672 ...  0.03911785  0.04537113\n",
      "   0.01596979]\n",
      " [-0.01768885  0.04914334  0.02923925 ...  0.07117655 -0.03629033\n",
      "  -0.0103277 ]]\n"
     ]
    }
   ],
   "source": [
    "from sentence_transformers import SentenceTransformer\n",
    "\n",
    "# Sentence-BERT 모델 로드 (여기서는 'all-MiniLM-L6-v2' 모델 사용)\n",
    "model = SentenceTransformer('all-MiniLM-L6-v2')\n",
    "\n",
    "# Cleaned_Description 열에서 전처리된 텍스트를 기반으로 임베딩 생성\n",
    "embeddings = model.encode(apps_data['description'].values)\n",
    "\n",
    "# 임베딩 확인\n",
    "print(embeddings.shape)  # (데이터 개수, 임베딩 차원 수)\n",
    "print(embeddings)  # 임베딩 결과 확인"
   ]
  },
  {
   "cell_type": "code",
   "execution_count": 39,
   "metadata": {},
   "outputs": [
    {
     "name": "stderr",
     "output_type": "stream",
     "text": [
      "c:\\Users\\user\\AppData\\Local\\Programs\\Python\\Python38\\lib\\site-packages\\sklearn\\cluster\\_kmeans.py:1416: FutureWarning: The default value of `n_init` will change from 10 to 'auto' in 1.4. Set the value of `n_init` explicitly to suppress the warning\n",
      "  super()._check_params_vs_input(X, default_n_init=10)\n"
     ]
    },
    {
     "name": "stdout",
     "output_type": "stream",
     "text": [
      "[2 1 0 ... 0 2 2]\n"
     ]
    }
   ],
   "source": [
    "from sklearn.cluster import KMeans\n",
    "\n",
    "# KMeans 클러스터링\n",
    "num_clusters = 5\n",
    "kmeans = KMeans(n_clusters=num_clusters)\n",
    "kmeans.fit(embeddings)\n",
    "\n",
    "# 클러스터 할당 결과\n",
    "clusters = kmeans.labels_\n",
    "print(clusters)"
   ]
  },
  {
   "cell_type": "markdown",
   "metadata": {},
   "source": [
    "## Sentence Bert 저장"
   ]
  },
  {
   "cell_type": "code",
   "execution_count": 40,
   "metadata": {},
   "outputs": [
    {
     "name": "stderr",
     "output_type": "stream",
     "text": [
      "c:\\Users\\user\\AppData\\Local\\Programs\\Python\\Python38\\lib\\site-packages\\transformers\\tokenization_utils_base.py:1617: FutureWarning: `clean_up_tokenization_spaces` was not set. It will be set to `True` by default. This behavior will be deprecated in transformers v4.45, and will be then set to `False` by default. For more details check this issue: https://github.com/huggingface/transformers/issues/31884\n",
      "  warnings.warn(\n"
     ]
    },
    {
     "data": {
      "text/plain": [
       "['app_embeddings2.pkl']"
      ]
     },
     "execution_count": 40,
     "metadata": {},
     "output_type": "execute_result"
    }
   ],
   "source": [
    "import joblib\n",
    "from sentence_transformers import SentenceTransformer\n",
    "\n",
    "# Sentence-BERT 모델 로드\n",
    "model = SentenceTransformer('all-MiniLM-L6-v2')\n",
    "\n",
    "# 예시 텍스트 임베딩 (앱 설명)\n",
    "app_descriptions = [\"카카오톡은 무료 메시징 앱입니다.\", \"네이버는 한국의 대표 포털 사이트입니다.\"]\n",
    "embeddings = model.encode(app_descriptions)\n",
    "\n",
    "# 임베딩 저장\n",
    "joblib.dump(embeddings, 'app_embeddings2.pkl')\n"
   ]
  },
  {
   "cell_type": "code",
   "execution_count": 47,
   "metadata": {},
   "outputs": [
    {
     "name": "stderr",
     "output_type": "stream",
     "text": [
      "c:\\Users\\user\\AppData\\Local\\Programs\\Python\\Python38\\lib\\site-packages\\sklearn\\cluster\\_kmeans.py:1416: FutureWarning: The default value of `n_init` will change from 10 to 'auto' in 1.4. Set the value of `n_init` explicitly to suppress the warning\n",
      "  super()._check_params_vs_input(X, default_n_init=10)\n"
     ]
    },
    {
     "data": {
      "text/plain": [
       "['kmeans_model_4.pkl']"
      ]
     },
     "execution_count": 47,
     "metadata": {},
     "output_type": "execute_result"
    }
   ],
   "source": [
    "import joblib\n",
    "from sklearn.cluster import KMeans\n",
    "\n",
    "# K-Means 모델 학습 (n_clusters는 군집 개수)\n",
    "kmeans = KMeans(n_clusters=2, random_state=42)\n",
    "\n",
    "# kmeans.cluster_centers_=kmeans.cluster_centers_.astype(float)\n",
    "\n",
    "kmeans.fit(embeddings)\n",
    "\n",
    "# K-Means 모델 저장\n",
    "joblib.dump(kmeans, 'kmeans_model_4.pkl')\n"
   ]
  },
  {
   "cell_type": "code",
   "execution_count": 48,
   "metadata": {},
   "outputs": [
    {
     "name": "stdout",
     "output_type": "stream",
     "text": [
      "(2, 384)\n"
     ]
    }
   ],
   "source": [
    "print(embeddings.shape)"
   ]
  },
  {
   "cell_type": "code",
   "execution_count": null,
   "metadata": {},
   "outputs": [],
   "source": [
    "import sqlite3\n",
    "import pandas as pd\n",
    "\n",
    "# 데이터베이스 연결\n",
    "conn = sqlite3.connect('app_data.db')\n",
    "\n",
    "# 예시 앱 데이터프레임 생성\n",
    "apps_data = pd.DataFrame({\n",
    "    'AppID': ['com.kakao.talk', 'com.nhn.android.search', 'com.facebook.katana'],\n",
    "    'Name': ['카카오톡', '네이버', '페이스북'],\n",
    "    'Description': ['카카오톡은 무료 메시징 앱입니다.', '네이버는 한국의 대표 포털 사이트입니다.', '페이스북은 세계 최대의 소셜 네트워크입니다.']\n",
    "})\n",
    "\n",
    "# 데이터프레임을 데이터베이스에 저장\n",
    "apps_data.to_sql('apps', conn, if_exists='replace', index=False)\n",
    "\n",
    "# 데이터베이스 연결 종료\n",
    "conn.close()\n"
   ]
  },
  {
   "cell_type": "code",
   "execution_count": null,
   "metadata": {},
   "outputs": [],
   "source": []
  }
 ],
 "metadata": {
  "kernelspec": {
   "display_name": "Python 3",
   "language": "python",
   "name": "python3"
  },
  "language_info": {
   "codemirror_mode": {
    "name": "ipython",
    "version": 3
   },
   "file_extension": ".py",
   "mimetype": "text/x-python",
   "name": "python",
   "nbconvert_exporter": "python",
   "pygments_lexer": "ipython3",
   "version": "3.8.0"
  }
 },
 "nbformat": 4,
 "nbformat_minor": 2
}
