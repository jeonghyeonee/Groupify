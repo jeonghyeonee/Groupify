{
 "cells": [
  {
   "cell_type": "code",
   "execution_count": 45,
   "metadata": {},
   "outputs": [],
   "source": [
    "import pandas as pd\n",
    "from sentence_transformers import SentenceTransformer\n",
    "from sklearn.cluster import KMeans\n",
    "from sklearn.feature_extraction.text import TfidfVectorizer\n",
    "import numpy as np\n",
    "from sklearn.feature_extraction import text  # 기본 영어 불용어를 가져오기 위함"
   ]
  },
  {
   "cell_type": "code",
   "execution_count": 46,
   "metadata": {},
   "outputs": [],
   "source": [
    "# CSV 파일에서 데이터 불러오기\n",
    "apps_data = pd.read_csv('cleaned_apps_data.csv')"
   ]
  },
  {
   "cell_type": "code",
   "execution_count": 47,
   "metadata": {},
   "outputs": [],
   "source": [
    "# 2. 앱 이름을 불용어 리스트로 처리\n",
    "app_names = apps_data['Name'].apply(lambda x: x.lower()).tolist()  # 앱 이름을 소문자로 변환하여 리스트로 수집\n"
   ]
  },
  {
   "cell_type": "code",
   "execution_count": 48,
   "metadata": {},
   "outputs": [],
   "source": [
    "# 3. 기본 불용어와 앱 이름 결합\n",
    "stop_words = list(text.ENGLISH_STOP_WORDS.union(app_names))  # frozenset을 리스트로 변환\n"
   ]
  },
  {
   "cell_type": "code",
   "execution_count": 49,
   "metadata": {},
   "outputs": [
    {
     "name": "stderr",
     "output_type": "stream",
     "text": [
      "c:\\Users\\jeleez\\AppData\\Local\\Programs\\Python\\Python38\\lib\\site-packages\\transformers\\tokenization_utils_base.py:1601: FutureWarning: `clean_up_tokenization_spaces` was not set. It will be set to `True` by default. This behavior will be depracted in transformers v4.45, and will be then set to `False` by default. For more details check this issue: https://github.com/huggingface/transformers/issues/31884\n",
      "  warnings.warn(\n"
     ]
    }
   ],
   "source": [
    "# 2. Sentence-BERT 모델 로드 및 문장 임베딩 생성\n",
    "model = SentenceTransformer('all-MiniLM-L6-v2')  # Sentence-BERT 모델\n",
    "embeddings = model.encode(apps_data['Cleaned_Description'].values)  # 앱 설명에 대한 임베딩 생성\n"
   ]
  },
  {
   "cell_type": "code",
   "execution_count": 58,
   "metadata": {},
   "outputs": [
    {
     "name": "stderr",
     "output_type": "stream",
     "text": [
      "c:\\Users\\jeleez\\AppData\\Local\\Programs\\Python\\Python38\\lib\\site-packages\\sklearn\\cluster\\_kmeans.py:1416: FutureWarning: The default value of `n_init` will change from 10 to 'auto' in 1.4. Set the value of `n_init` explicitly to suppress the warning\n",
      "  super()._check_params_vs_input(X, default_n_init=10)\n"
     ]
    }
   ],
   "source": [
    "# 3. K-Means 클러스터링 수행\n",
    "n_clusters = 5  # 클러스터 수 설정\n",
    "kmeans = KMeans(n_clusters=n_clusters, random_state=42)\n",
    "clusters = kmeans.fit_predict(embeddings)\n"
   ]
  },
  {
   "cell_type": "code",
   "execution_count": 59,
   "metadata": {},
   "outputs": [],
   "source": [
    "# 4. 클러스터 결과를 데이터프레임에 추가\n",
    "apps_data['Cluster'] = clusters\n",
    "\n"
   ]
  },
  {
   "cell_type": "code",
   "execution_count": 60,
   "metadata": {},
   "outputs": [
    {
     "name": "stderr",
     "output_type": "stream",
     "text": [
      "c:\\Users\\jeleez\\AppData\\Local\\Programs\\Python\\Python38\\lib\\site-packages\\sklearn\\feature_extraction\\text.py:408: UserWarning: Your stop_words may be inconsistent with your preprocessing. Tokenizing the stop words generated tokens ['309', '4x', 'adblocker', 'billionaire', 'blocker', 'booster', 'carrera', 'coupang', 'delivery', 'digital', 'eats', 'elegant', 'face', 'fas', 'faster', 'filmhwa', 'filter', 'food', 'game', 'hwa', 'hybrid', 'illuminator', 'like', 'lite', 'md242', 'min', 'movies', 'news', 'play', 'plus', 'pro', 'samsung', 'shop', 'tag', 'temu', 'tiktok', 'today', 'tv', 'unicorn', 'watch', 'wfp', '건강보험증', '경기도', '기회소득', '기후행동', '모바일'] not in stop_words.\n",
      "  warnings.warn(\n"
     ]
    }
   ],
   "source": [
    "# 7. TF-IDF 기반 주요 키워드 추출 함수\n",
    "# 앱 이름을 stop_words로 추가하여 TF-IDF에서 제외\n",
    "vectorizer = TfidfVectorizer(stop_words=stop_words, max_features=1000)  # 앱 이름을 불용어로 처리\n",
    "tfidf_matrix = vectorizer.fit_transform(apps_data['Cleaned_Description'])\n",
    "\n",
    "def get_top_keywords(tfidf_matrix, clusters, top_n=5):\n",
    "    cluster_centers = np.zeros((np.unique(clusters).size, tfidf_matrix.shape[1]))\n",
    "    \n",
    "    for cluster in np.unique(clusters):\n",
    "        cluster_centers[cluster] = tfidf_matrix[clusters == cluster].mean(axis=0)\n",
    "    \n",
    "    terms = vectorizer.get_feature_names_out()\n",
    "    top_keywords = []\n",
    "    \n",
    "    for cluster in range(cluster_centers.shape[0]):\n",
    "        center = cluster_centers[cluster]\n",
    "        top_indices = center.argsort()[::-1][:top_n]\n",
    "        keywords = [terms[i] for i in top_indices]\n",
    "        top_keywords.append(keywords)\n",
    "    \n",
    "    return top_keywords"
   ]
  },
  {
   "cell_type": "code",
   "execution_count": 61,
   "metadata": {},
   "outputs": [],
   "source": [
    "# 6. 클러스터별 상위 5개 키워드 추출\n",
    "top_keywords_per_cluster = get_top_keywords(tfidf_matrix, clusters, top_n=5)\n",
    "\n"
   ]
  },
  {
   "cell_type": "code",
   "execution_count": 62,
   "metadata": {},
   "outputs": [],
   "source": [
    "# 7. 키워드 기반으로 상위 카테고리 이름 생성\n",
    "def generate_category_name(keywords):\n",
    "    return \" & \".join(keywords[:2])  # 상위 2개의 키워드를 연결하여 이름 생성\n",
    "\n"
   ]
  },
  {
   "cell_type": "code",
   "execution_count": 63,
   "metadata": {},
   "outputs": [
    {
     "name": "stdout",
     "output_type": "stream",
     "text": [
      "Cluster 0 Name: tv & ads\n",
      "Cluster 1 Name: news & receive\n",
      "Cluster 2 Name: insurance & pay\n",
      "Cluster 3 Name: watch & face\n",
      "Cluster 4 Name: game & lite\n"
     ]
    }
   ],
   "source": [
    "# 8. 클러스터별 상위 카테고리 이름 생성 및 출력\n",
    "for cluster_num, keywords in enumerate(top_keywords_per_cluster):\n",
    "    category_name = generate_category_name(keywords)\n",
    "    print(f\"Cluster {cluster_num} Name: {category_name}\")"
   ]
  },
  {
   "cell_type": "code",
   "execution_count": 64,
   "metadata": {},
   "outputs": [],
   "source": [
    "# 9. 클러스터 이름을 데이터프레임에 추가\n",
    "for cluster_num, keywords in enumerate(top_keywords_per_cluster):\n",
    "    category_name = generate_category_name(keywords)\n",
    "    apps_data.loc[apps_data['Cluster'] == cluster_num, 'Super_Category'] = category_name\n"
   ]
  },
  {
   "cell_type": "code",
   "execution_count": 23,
   "metadata": {},
   "outputs": [
    {
     "name": "stdout",
     "output_type": "stream",
     "text": [
      "                   Category  \\\n",
      "0          Health & Fitness   \n",
      "1   Video Players & Editors   \n",
      "2                  Shopping   \n",
      "3                    Social   \n",
      "4                 Lifestyle   \n",
      "5             Entertainment   \n",
      "6          News & Magazines   \n",
      "7                   Finance   \n",
      "8              Food & Drink   \n",
      "9             Entertainment   \n",
      "10          Personalization   \n",
      "11                    Tools   \n",
      "12          Personalization   \n",
      "13          Personalization   \n",
      "14              Photography   \n",
      "15             Productivity   \n",
      "16          Personalization   \n",
      "\n",
      "                                          Description  Cluster  Super_Category  \n",
      "0   1. The mobile health insurance card app is a p...        0    watch & face  \n",
      "1   TikTok Lite is a global video community that i...        2  coupang & game  \n",
      "2   Shop on Temu for exclusive offers. \\n\\nNo matt...        1     news & temu  \n",
      "3   Say more with Threads — Instagram’s text-based...        1     news & temu  \n",
      "4   Through carbon neutrality activities that can ...        2  coupang & game  \n",
      "5   Enjoy COUPANG PLAY's Unlimited Movies&TV shows...        2  coupang & game  \n",
      "6   News Today is a comprehensive news platform th...        1     news & temu  \n",
      "7   ● Naver Pay payment at stores without wallet\\n...        1     news & temu  \n",
      "8   Free delivery on Coupang Eats for Coupang WOW ...        2  coupang & game  \n",
      "9   Watch Samsung TV Plus on the go with our mobil...        1     news & temu  \n",
      "10  Very realistic and easy to read retro-like sty...        0    watch & face  \n",
      "11  🎲 Features of this app:\\n★ Boost your gaming e...        2  coupang & game  \n",
      "12  New watch face format.\\n\\nIt contains 3 Preset...        0    watch & face  \n",
      "13  Wear OS device only\\n\\nTransformable dial.\\nTo...        0    watch & face  \n",
      "14  Have the unique color of @hwa.min, an influenc...        2  coupang & game  \n",
      "15  *** 50% OFF LIMITED TIME ONLY ***\\n*** The app...        1     news & temu  \n",
      "16  This watch face supports devices with WearOS 4...        0    watch & face  \n"
     ]
    }
   ],
   "source": [
    "# 10. 결과 확인\n",
    "print(apps_data[['Category', 'Cleaned_Description', 'Cluster', 'Super_Category']])"
   ]
  },
  {
   "cell_type": "code",
   "execution_count": null,
   "metadata": {},
   "outputs": [],
   "source": []
  }
 ],
 "metadata": {
  "kernelspec": {
   "display_name": "Python 3",
   "language": "python",
   "name": "python3"
  },
  "language_info": {
   "codemirror_mode": {
    "name": "ipython",
    "version": 3
   },
   "file_extension": ".py",
   "mimetype": "text/x-python",
   "name": "python",
   "nbconvert_exporter": "python",
   "pygments_lexer": "ipython3",
   "version": "3.8.5"
  }
 },
 "nbformat": 4,
 "nbformat_minor": 2
}
