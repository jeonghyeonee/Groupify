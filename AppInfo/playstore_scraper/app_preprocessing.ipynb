{
 "cells": [
  {
   "cell_type": "code",
   "execution_count": 36,
   "metadata": {},
   "outputs": [],
   "source": [
    "import pandas as pd\n",
    "from sentence_transformers import SentenceTransformer\n",
    "from sklearn.cluster import KMeans\n",
    "from sklearn.feature_extraction.text import TfidfVectorizer\n",
    "import numpy as np\n",
    "import re"
   ]
  },
  {
   "cell_type": "code",
   "execution_count": 37,
   "metadata": {},
   "outputs": [],
   "source": [
    "# 데이터 불러오기\n",
    "free_apps = pd.read_csv('Free_apps.csv')\n",
    "grossing_apps = pd.read_csv('Grossing_apps.csv')\n",
    "paid_apps = pd.read_csv('Paid_apps.csv')"
   ]
  },
  {
   "cell_type": "code",
   "execution_count": 38,
   "metadata": {},
   "outputs": [],
   "source": [
    "# 데이터 병합\n",
    "apps_data = pd.concat([free_apps, grossing_apps, paid_apps])\n",
    "\n",
    "# 중복된 행 제거\n",
    "apps_data = apps_data.drop_duplicates(subset=['App ID'])"
   ]
  },
  {
   "cell_type": "code",
   "execution_count": 39,
   "metadata": {},
   "outputs": [],
   "source": [
    "# 필요한 열만 선택\n",
    "apps_data = apps_data[['Name', 'Category', 'Description']]\n",
    "\n",
    "# 결측치 제거\n",
    "apps_data.dropna(subset=['Name', 'Category', 'Description'], inplace=True)"
   ]
  },
  {
   "cell_type": "code",
   "execution_count": 40,
   "metadata": {},
   "outputs": [],
   "source": [
    "def clean_description(text):\n",
    "    text = re.sub(r'\\s+', ' ', text)  # 줄 바꿈 제거\n",
    "    text = re.sub(r'【.*?】', '', text)  # 특수한 텍스트 패턴 제거 (예: 【Fabulous content】)\n",
    "    text = re.sub(r'[^a-zA-Z0-9\\s]', '', text)  # 특수문자 제거\n",
    "    return text.strip()\n"
   ]
  },
  {
   "cell_type": "code",
   "execution_count": 41,
   "metadata": {},
   "outputs": [],
   "source": [
    "# 3. Description 전처리 적용\n",
    "apps_data['Cleaned_Description'] = apps_data['Description'].apply(clean_description)\n"
   ]
  },
  {
   "cell_type": "code",
   "execution_count": 42,
   "metadata": {},
   "outputs": [
    {
     "name": "stdout",
     "output_type": "stream",
     "text": [
      "                       Name  \\\n",
      "0                PDF Reader   \n",
      "1                 모바일 건강보험증   \n",
      "2      All Documents Viewer   \n",
      "3     A.(에이닷) - 나만의 AI 개인비서   \n",
      "4                    온누리상품권   \n",
      "..                      ...   \n",
      "90              OruxMaps GP   \n",
      "91           굴삭기 면허시험 시뮬레이터   \n",
      "92  EVERYDAY 10-Hands Style   \n",
      "93               Astro Gold   \n",
      "94  ACRO Classic Wonder T50   \n",
      "\n",
      "                                          Description  \\\n",
      "0   This is a PDF app for Android and the best vie...   \n",
      "1   1. The mobile health insurance card app is a p...   \n",
      "2   Our features include: View Multiple Types of F...   \n",
      "3   Adot, your own newly evolved AI personal assis...   \n",
      "4   Onnuri Gift Certificate is a service that allo...   \n",
      "..                                                ...   \n",
      "90  You can use OruxMaps for your outdoor activiti...   \n",
      "91  The app made for the practical test excavators...   \n",
      "92  A beautiful watch face for every day! Easy to ...   \n",
      "93  Astro Gold is the professional-level astrology...   \n",
      "94  Introducing watch faces that add value to you....   \n",
      "\n",
      "                                  Cleaned_Description  \n",
      "0   This is a PDF app for Android and the best vie...  \n",
      "1   1 The mobile health insurance card app is a pu...  \n",
      "2   Our features include View Multiple Types of Fi...  \n",
      "3   Adot your own newly evolved AI personal assist...  \n",
      "4   Onnuri Gift Certificate is a service that allo...  \n",
      "..                                                ...  \n",
      "90  You can use OruxMaps for your outdoor activiti...  \n",
      "91  The app made for the practical test excavators...  \n",
      "92  A beautiful watch face for every day Easy to r...  \n",
      "93  Astro Gold is the professionallevel astrology ...  \n",
      "94  Introducing watch faces that add value to you ...  \n",
      "\n",
      "[195 rows x 3 columns]\n"
     ]
    }
   ],
   "source": [
    "# 4. 결과 확인\n",
    "print(apps_data[['Name', 'Description', 'Cleaned_Description']])"
   ]
  },
  {
   "cell_type": "code",
   "execution_count": 43,
   "metadata": {},
   "outputs": [],
   "source": [
    "from nltk.corpus import stopwords\n",
    "stop_words = set(stopwords.words('english'))\n",
    "\n",
    "apps_data['Cleaned_Description'] = apps_data['Cleaned_Description'].apply(\n",
    "    lambda x: ' '.join([word for word in x.split() if word.lower() not in stop_words])\n",
    ")"
   ]
  },
  {
   "cell_type": "code",
   "execution_count": 44,
   "metadata": {},
   "outputs": [],
   "source": [
    "# 전처리된 데이터를 'cleaned_apps_data.csv' 파일로 저장\n",
    "apps_data.to_csv('cleaned_apps_data.csv', index=False)"
   ]
  },
  {
   "cell_type": "code",
   "execution_count": null,
   "metadata": {},
   "outputs": [],
   "source": []
  }
 ],
 "metadata": {
  "kernelspec": {
   "display_name": "Python 3",
   "language": "python",
   "name": "python3"
  },
  "language_info": {
   "codemirror_mode": {
    "name": "ipython",
    "version": 3
   },
   "file_extension": ".py",
   "mimetype": "text/x-python",
   "name": "python",
   "nbconvert_exporter": "python",
   "pygments_lexer": "ipython3",
   "version": "3.8.5"
  }
 },
 "nbformat": 4,
 "nbformat_minor": 2
}
