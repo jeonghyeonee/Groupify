{
 "cells": [
  {
   "cell_type": "code",
   "execution_count": 1,
   "metadata": {},
   "outputs": [],
   "source": [
    "import pandas as pd\n",
    "from sklearn.feature_extraction.text import TfidfVectorizer\n",
    "from sklearn.model_selection import train_test_split\n",
    "from sklearn.preprocessing import LabelEncoder"
   ]
  },
  {
   "cell_type": "code",
   "execution_count": 50,
   "metadata": {},
   "outputs": [],
   "source": [
    "# 데이터 불러오기\n",
    "free_apps = pd.read_csv('Free_apps.csv')\n",
    "grossing_apps = pd.read_csv('Grossing_apps.csv')\n",
    "paid_apps = pd.read_csv('Paid_apps.csv')"
   ]
  },
  {
   "cell_type": "code",
   "execution_count": 65,
   "metadata": {},
   "outputs": [],
   "source": [
    "# 데이터 병합\n",
    "apps_data = pd.concat([free_apps, grossing_apps, paid_apps])\n",
    "\n",
    "# 중복된 행 제거\n",
    "apps_data = apps_data.drop_duplicates(subset=['App ID'])"
   ]
  },
  {
   "cell_type": "code",
   "execution_count": 66,
   "metadata": {},
   "outputs": [],
   "source": [
    "# 필요한 열만 선택\n",
    "apps_data = apps_data[['Category', 'Description']]"
   ]
  },
  {
   "cell_type": "code",
   "execution_count": 67,
   "metadata": {},
   "outputs": [],
   "source": [
    "# 결측치 제거\n",
    "apps_data.dropna(subset=['Category', 'Description'], inplace=True)"
   ]
  },
  {
   "cell_type": "code",
   "execution_count": 68,
   "metadata": {},
   "outputs": [
    {
     "data": {
      "text/html": [
       "<div>\n",
       "<style scoped>\n",
       "    .dataframe tbody tr th:only-of-type {\n",
       "        vertical-align: middle;\n",
       "    }\n",
       "\n",
       "    .dataframe tbody tr th {\n",
       "        vertical-align: top;\n",
       "    }\n",
       "\n",
       "    .dataframe thead th {\n",
       "        text-align: right;\n",
       "    }\n",
       "</style>\n",
       "<table border=\"1\" class=\"dataframe\">\n",
       "  <thead>\n",
       "    <tr style=\"text-align: right;\">\n",
       "      <th></th>\n",
       "      <th>Category</th>\n",
       "      <th>Description</th>\n",
       "    </tr>\n",
       "  </thead>\n",
       "  <tbody>\n",
       "    <tr>\n",
       "      <th>0</th>\n",
       "      <td>Health &amp; Fitness</td>\n",
       "      <td>1. The mobile health insurance card app is a p...</td>\n",
       "    </tr>\n",
       "    <tr>\n",
       "      <th>1</th>\n",
       "      <td>Video Players &amp; Editors</td>\n",
       "      <td>TikTok Lite is a global video community that i...</td>\n",
       "    </tr>\n",
       "    <tr>\n",
       "      <th>2</th>\n",
       "      <td>Shopping</td>\n",
       "      <td>Shop on Temu for exclusive offers. \\n\\nNo matt...</td>\n",
       "    </tr>\n",
       "    <tr>\n",
       "      <th>3</th>\n",
       "      <td>Social</td>\n",
       "      <td>Say more with Threads — Instagram’s text-based...</td>\n",
       "    </tr>\n",
       "    <tr>\n",
       "      <th>4</th>\n",
       "      <td>Lifestyle</td>\n",
       "      <td>Through carbon neutrality activities that can ...</td>\n",
       "    </tr>\n",
       "  </tbody>\n",
       "</table>\n",
       "</div>"
      ],
      "text/plain": [
       "                  Category                                        Description\n",
       "0         Health & Fitness  1. The mobile health insurance card app is a p...\n",
       "1  Video Players & Editors  TikTok Lite is a global video community that i...\n",
       "2                 Shopping  Shop on Temu for exclusive offers. \\n\\nNo matt...\n",
       "3                   Social  Say more with Threads — Instagram’s text-based...\n",
       "4                Lifestyle  Through carbon neutrality activities that can ..."
      ]
     },
     "execution_count": 68,
     "metadata": {},
     "output_type": "execute_result"
    }
   ],
   "source": [
    "apps_data.head()"
   ]
  },
  {
   "cell_type": "code",
   "execution_count": 69,
   "metadata": {},
   "outputs": [],
   "source": [
    "from sklearn.cluster import KMeans\n",
    "import matplotlib.pyplot as plt\n",
    "from sklearn.decomposition import PCA"
   ]
  },
  {
   "cell_type": "code",
   "execution_count": 70,
   "metadata": {},
   "outputs": [
    {
     "name": "stderr",
     "output_type": "stream",
     "text": [
      "c:\\Users\\jeleez\\AppData\\Local\\Programs\\Python\\Python38\\lib\\site-packages\\sklearn\\cluster\\_kmeans.py:1416: FutureWarning: The default value of `n_init` will change from 10 to 'auto' in 1.4. Set the value of `n_init` explicitly to suppress the warning\n",
      "  super()._check_params_vs_input(X, default_n_init=10)\n"
     ]
    }
   ],
   "source": [
    "# 클러스터링 수행 (예: 7개의 클러스터)\n",
    "kmeans = KMeans(n_clusters=7, random_state=42)\n",
    "clusters = kmeans.fit_predict(X_tfidf)\n"
   ]
  },
  {
   "cell_type": "code",
   "execution_count": 71,
   "metadata": {},
   "outputs": [],
   "source": [
    "from sklearn.feature_extraction.text import TfidfVectorizer\n",
    "\n",
    "# TF-IDF 벡터화\n",
    "vectorizer = TfidfVectorizer(stop_words='english', max_features=5000)\n",
    "X_tfidf = vectorizer.fit_transform(apps_data['Description'])"
   ]
  },
  {
   "cell_type": "code",
   "execution_count": 73,
   "metadata": {},
   "outputs": [
    {
     "name": "stderr",
     "output_type": "stream",
     "text": [
      "c:\\Users\\jeleez\\AppData\\Local\\Programs\\Python\\Python38\\lib\\site-packages\\sklearn\\cluster\\_kmeans.py:1416: FutureWarning: The default value of `n_init` will change from 10 to 'auto' in 1.4. Set the value of `n_init` explicitly to suppress the warning\n",
      "  super()._check_params_vs_input(X, default_n_init=10)\n"
     ]
    }
   ],
   "source": [
    "from sklearn.cluster import KMeans\n",
    "\n",
    "# 클러스터 개수 설정 (예: 7개의 상위 카테고리)\n",
    "n_clusters = 3\n",
    "kmeans = KMeans(n_clusters=n_clusters, random_state=42)\n",
    "clusters = kmeans.fit_predict(X_tfidf)\n",
    "\n",
    "# 클러스터 결과를 데이터프레임에 추가\n",
    "apps_data['Cluster'] = clusters"
   ]
  },
  {
   "cell_type": "code",
   "execution_count": 74,
   "metadata": {},
   "outputs": [
    {
     "name": "stdout",
     "output_type": "stream",
     "text": [
      "Cluster 0:\n",
      "Category\n",
      "Video Players & Editors    1\n",
      "Shopping                   1\n",
      "Social                     1\n",
      "Photography                1\n",
      "Name: count, dtype: int64\n",
      "\n",
      "\n",
      "Cluster 1:\n",
      "Category\n",
      "Entertainment       2\n",
      "Health & Fitness    1\n",
      "Lifestyle           1\n",
      "News & Magazines    1\n",
      "Finance             1\n",
      "Food & Drink        1\n",
      "Tools               1\n",
      "Name: count, dtype: int64\n",
      "\n",
      "\n",
      "Cluster 2:\n",
      "Category\n",
      "Personalization    4\n",
      "Productivity       1\n",
      "Name: count, dtype: int64\n",
      "\n",
      "\n"
     ]
    }
   ],
   "source": [
    "# 클러스터별로 카테고리 확인\n",
    "for cluster_num in range(n_clusters):\n",
    "    print(f\"Cluster {cluster_num}:\")\n",
    "    cluster_data = apps_data[apps_data['Cluster'] == cluster_num]\n",
    "    print(cluster_data['Category'].value_counts())\n",
    "    print(\"\\n\")"
   ]
  },
  {
   "cell_type": "code",
   "execution_count": 75,
   "metadata": {},
   "outputs": [
    {
     "data": {
      "image/png": "[encoded data removed]",
      "text/plain": [
       "<Figure size 640x480 with 1 Axes>"
      ]
     },
     "metadata": {},
     "output_type": "display_data"
    }
   ],
   "source": [
    "from sklearn.decomposition import PCA\n",
    "import matplotlib.pyplot as plt\n",
    "\n",
    "# PCA로 차원 축소 후 시각화\n",
    "pca = PCA(n_components=2)\n",
    "reduced_data = pca.fit_transform(X_tfidf.toarray())\n",
    "\n",
    "plt.scatter(reduced_data[:, 0], reduced_data[:, 1], c=clusters, cmap='viridis')\n",
    "plt.title('K-Means Clustering of App Descriptions')\n",
    "plt.xlabel('PCA Component 1')\n",
    "plt.ylabel('PCA Component 2')\n",
    "plt.show()"
   ]
  },
  {
   "cell_type": "code",
   "execution_count": 76,
   "metadata": {},
   "outputs": [
    {
     "name": "stdout",
     "output_type": "stream",
     "text": [
      "Super Category (Cluster): 0\n",
      "Category\n",
      "Video Players & Editors    1\n",
      "Shopping                   1\n",
      "Social                     1\n",
      "Photography                1\n",
      "Name: count, dtype: int64\n",
      "\n",
      "\n",
      "Super Category (Cluster): 1\n",
      "Category\n",
      "Entertainment       2\n",
      "Health & Fitness    1\n",
      "Lifestyle           1\n",
      "News & Magazines    1\n",
      "Finance             1\n",
      "Food & Drink        1\n",
      "Tools               1\n",
      "Name: count, dtype: int64\n",
      "\n",
      "\n",
      "Super Category (Cluster): 2\n",
      "Category\n",
      "Personalization    4\n",
      "Productivity       1\n",
      "Name: count, dtype: int64\n",
      "\n",
      "\n"
     ]
    }
   ],
   "source": [
    "# 클러스터 번호를 상위 카테고리로 사용\n",
    "apps_data['Super_Category'] = apps_data['Cluster']\n",
    "\n",
    "# 상위 카테고리별로 그룹화된 데이터 확인\n",
    "grouped_by_super_category = apps_data.groupby('Super_Category')\n",
    "\n",
    "for super_category, group in grouped_by_super_category:\n",
    "    print(f\"Super Category (Cluster): {super_category}\")\n",
    "    print(group['Category'].value_counts())\n",
    "    print(\"\\n\")"
   ]
  },
  {
   "cell_type": "code",
   "execution_count": 77,
   "metadata": {},
   "outputs": [
    {
     "data": {
      "text/html": [
       "<div>\n",
       "<style scoped>\n",
       "    .dataframe tbody tr th:only-of-type {\n",
       "        vertical-align: middle;\n",
       "    }\n",
       "\n",
       "    .dataframe tbody tr th {\n",
       "        vertical-align: top;\n",
       "    }\n",
       "\n",
       "    .dataframe thead th {\n",
       "        text-align: right;\n",
       "    }\n",
       "</style>\n",
       "<table border=\"1\" class=\"dataframe\">\n",
       "  <thead>\n",
       "    <tr style=\"text-align: right;\">\n",
       "      <th></th>\n",
       "      <th>Category</th>\n",
       "      <th>Description</th>\n",
       "      <th>Cluster</th>\n",
       "      <th>Super_Category</th>\n",
       "    </tr>\n",
       "  </thead>\n",
       "  <tbody>\n",
       "    <tr>\n",
       "      <th>0</th>\n",
       "      <td>Health &amp; Fitness</td>\n",
       "      <td>1. The mobile health insurance card app is a p...</td>\n",
       "      <td>1</td>\n",
       "      <td>1</td>\n",
       "    </tr>\n",
       "    <tr>\n",
       "      <th>1</th>\n",
       "      <td>Video Players &amp; Editors</td>\n",
       "      <td>TikTok Lite is a global video community that i...</td>\n",
       "      <td>0</td>\n",
       "      <td>0</td>\n",
       "    </tr>\n",
       "    <tr>\n",
       "      <th>2</th>\n",
       "      <td>Shopping</td>\n",
       "      <td>Shop on Temu for exclusive offers. \\n\\nNo matt...</td>\n",
       "      <td>0</td>\n",
       "      <td>0</td>\n",
       "    </tr>\n",
       "    <tr>\n",
       "      <th>3</th>\n",
       "      <td>Social</td>\n",
       "      <td>Say more with Threads — Instagram’s text-based...</td>\n",
       "      <td>0</td>\n",
       "      <td>0</td>\n",
       "    </tr>\n",
       "    <tr>\n",
       "      <th>4</th>\n",
       "      <td>Lifestyle</td>\n",
       "      <td>Through carbon neutrality activities that can ...</td>\n",
       "      <td>1</td>\n",
       "      <td>1</td>\n",
       "    </tr>\n",
       "  </tbody>\n",
       "</table>\n",
       "</div>"
      ],
      "text/plain": [
       "                  Category                                        Description  \\\n",
       "0         Health & Fitness  1. The mobile health insurance card app is a p...   \n",
       "1  Video Players & Editors  TikTok Lite is a global video community that i...   \n",
       "2                 Shopping  Shop on Temu for exclusive offers. \\n\\nNo matt...   \n",
       "3                   Social  Say more with Threads — Instagram’s text-based...   \n",
       "4                Lifestyle  Through carbon neutrality activities that can ...   \n",
       "\n",
       "   Cluster  Super_Category  \n",
       "0        1               1  \n",
       "1        0               0  \n",
       "2        0               0  \n",
       "3        0               0  \n",
       "4        1               1  "
      ]
     },
     "execution_count": 77,
     "metadata": {},
     "output_type": "execute_result"
    }
   ],
   "source": [
    "apps_data.head()"
   ]
  },
  {
   "cell_type": "code",
   "execution_count": 78,
   "metadata": {},
   "outputs": [],
   "source": [
    "import numpy as np"
   ]
  },
  {
   "cell_type": "code",
   "execution_count": 79,
   "metadata": {},
   "outputs": [],
   "source": [
    "# 클러스터별 주요 키워드 추출 함수\n",
    "def get_top_keywords(tfidf_matrix, clusters, top_n=5):\n",
    "    # 클러스터 중심의 TF-IDF 가중치 합계 계산\n",
    "    cluster_centers = np.zeros((np.unique(clusters).size, tfidf_matrix.shape[1]))\n",
    "    \n",
    "    for cluster in np.unique(clusters):\n",
    "        cluster_centers[cluster] = tfidf_matrix[clusters == cluster].mean(axis=0)\n",
    "    \n",
    "    # 각 클러스터의 주요 키워드 추출\n",
    "    terms = vectorizer.get_feature_names_out()\n",
    "    top_keywords = []\n",
    "    \n",
    "    for cluster in range(cluster_centers.shape[0]):\n",
    "        center = cluster_centers[cluster]\n",
    "        top_indices = center.argsort()[::-1][:top_n]  # 상위 n개의 인덱스\n",
    "        keywords = [terms[i] for i in top_indices]  # 상위 n개의 키워드\n",
    "        top_keywords.append(keywords)\n",
    "    \n",
    "    return top_keywords"
   ]
  },
  {
   "cell_type": "code",
   "execution_count": 80,
   "metadata": {},
   "outputs": [],
   "source": [
    "# 클러스터별 상위 5개 키워드 추출\n",
    "top_keywords_per_cluster = get_top_keywords(X_tfidf, clusters, top_n=5)\n"
   ]
  },
  {
   "cell_type": "code",
   "execution_count": 81,
   "metadata": {},
   "outputs": [
    {
     "name": "stdout",
     "output_type": "stream",
     "text": [
      "Cluster 0 Top Keywords: temu, instagram, tiktok, min, hwa\n",
      "Cluster 1 Top Keywords: news, coupang, tv, game, receive\n",
      "Cluster 2 Top Keywords: watch, https, face, com, ads\n"
     ]
    }
   ],
   "source": [
    "# 클러스터별 주요 키워드 출력\n",
    "for cluster_num, keywords in enumerate(top_keywords_per_cluster):\n",
    "    print(f\"Cluster {cluster_num} Top Keywords: {', '.join(keywords)}\")"
   ]
  },
  {
   "cell_type": "code",
   "execution_count": 82,
   "metadata": {},
   "outputs": [],
   "source": [
    "# 키워드 기반으로 상위 카테고리 이름 생성\n",
    "def generate_category_name(keywords):\n",
    "    return \" & \".join(keywords[:2])  # 상위 2개의 키워드를 연결하여 이름 생성"
   ]
  },
  {
   "cell_type": "code",
   "execution_count": 83,
   "metadata": {},
   "outputs": [
    {
     "name": "stdout",
     "output_type": "stream",
     "text": [
      "Cluster 0 Name: temu & instagram\n",
      "Cluster 1 Name: news & coupang\n",
      "Cluster 2 Name: watch & https\n"
     ]
    }
   ],
   "source": [
    "# 클러스터별 상위 카테고리 이름 생성 및 출력\n",
    "for cluster_num, keywords in enumerate(top_keywords_per_cluster):\n",
    "    category_name = generate_category_name(keywords)\n",
    "    print(f\"Cluster {cluster_num} Name: {category_name}\")"
   ]
  },
  {
   "cell_type": "markdown",
   "metadata": {},
   "source": [
    "### Word2Vec"
   ]
  },
  {
   "cell_type": "code",
   "execution_count": 84,
   "metadata": {},
   "outputs": [],
   "source": [
    "from gensim.models import Word2Vec\n",
    "from sklearn.cluster import KMeans\n",
    "import numpy as np"
   ]
  },
  {
   "cell_type": "code",
   "execution_count": 85,
   "metadata": {},
   "outputs": [],
   "source": [
    "# Description 텍스트를 토큰화\n",
    "tokenized_descriptions = [desc.split() for desc in apps_data['Description']]"
   ]
  },
  {
   "cell_type": "code",
   "execution_count": 86,
   "metadata": {},
   "outputs": [],
   "source": [
    "# Word2Vec 모델 학습\n",
    "word2vec_model = Word2Vec(sentences=tokenized_descriptions, vector_size=100, window=5, min_count=2, workers=4)"
   ]
  },
  {
   "cell_type": "code",
   "execution_count": 87,
   "metadata": {},
   "outputs": [],
   "source": [
    "# 클러스터 내에서 가장 빈도가 높은 단어 추출\n",
    "def get_top_words_word2vec(model, cluster_data, top_n=5):\n",
    "    word_counts = {}\n",
    "    for desc in cluster_data['Description']:\n",
    "        words = desc.split()\n",
    "        for word in words:\n",
    "            if word in model.wv:\n",
    "                word_counts[word] = word_counts.get(word, 0) + 1\n",
    "    top_words = sorted(word_counts.items(), key=lambda item: item[1], reverse=True)[:top_n]\n",
    "    return [word for word, _ in top_words]"
   ]
  },
  {
   "cell_type": "code",
   "execution_count": 88,
   "metadata": {},
   "outputs": [
    {
     "name": "stdout",
     "output_type": "stream",
     "text": [
      "Cluster 0 Top Words: and, the, to, your, •\n",
      "Cluster 1 Top Words: and, the, you, -, to\n",
      "Cluster 2 Top Words: -, the, to, you, and\n"
     ]
    }
   ],
   "source": [
    "# 클러스터별 주요 단어 추출\n",
    "for cluster_num in range(n_clusters):\n",
    "    cluster_data = apps_data[apps_data['Cluster'] == cluster_num]\n",
    "    top_words = get_top_words_word2vec(word2vec_model, cluster_data)\n",
    "    print(f\"Cluster {cluster_num} Top Words: {', '.join(top_words)}\")"
   ]
  },
  {
   "cell_type": "code",
   "execution_count": 89,
   "metadata": {},
   "outputs": [],
   "source": [
    "# 키워드 기반으로 상위 카테고리 이름 생성\n",
    "def generate_category_name_from_word2vec(top_words):\n",
    "    return \" & \".join(top_words[:2])  # 상위 2개의 단어로 이름 생성"
   ]
  },
  {
   "cell_type": "code",
   "execution_count": 90,
   "metadata": {},
   "outputs": [
    {
     "name": "stdout",
     "output_type": "stream",
     "text": [
      "Cluster 0 Name: and & the\n",
      "Cluster 1 Name: and & the\n",
      "Cluster 2 Name: - & the\n"
     ]
    }
   ],
   "source": [
    "# 클러스터별 상위 카테고리 이름 생성 및 출력\n",
    "for cluster_num in range(n_clusters):\n",
    "    cluster_data = apps_data[apps_data['Cluster'] == cluster_num]\n",
    "    top_words = get_top_words_word2vec(word2vec_model, cluster_data)\n",
    "    category_name = generate_category_name_from_word2vec(top_words)\n",
    "    print(f\"Cluster {cluster_num} Name: {category_name}\")"
   ]
  },
  {
   "cell_type": "markdown",
   "metadata": {},
   "source": [
    "### LDA"
   ]
  },
  {
   "cell_type": "code",
   "execution_count": 91,
   "metadata": {},
   "outputs": [],
   "source": [
    "from sklearn.decomposition import LatentDirichletAllocation\n",
    "from sklearn.feature_extraction.text import CountVectorizer"
   ]
  },
  {
   "cell_type": "code",
   "execution_count": 92,
   "metadata": {},
   "outputs": [],
   "source": [
    "# Count Vectorizer 사용하여 문서-단어 행렬 생성\n",
    "count_vectorizer = CountVectorizer(stop_words='english', max_features=5000)\n",
    "X_counts = count_vectorizer.fit_transform(apps_data['Description'])"
   ]
  },
  {
   "cell_type": "code",
   "execution_count": 93,
   "metadata": {},
   "outputs": [],
   "source": [
    "# LDA 모델 학습\n",
    "lda_model = LatentDirichletAllocation(n_components=n_clusters, random_state=42)\n",
    "lda_topics = lda_model.fit_transform(X_counts)"
   ]
  },
  {
   "cell_type": "code",
   "execution_count": 94,
   "metadata": {},
   "outputs": [],
   "source": [
    "# 각 클러스터의 상위 단어 추출\n",
    "def get_top_words_lda(model, feature_names, top_n=10):\n",
    "    top_words = []\n",
    "    for topic_idx, topic in enumerate(model.components_):\n",
    "        top_features_ind = topic.argsort()[:-top_n - 1:-1]\n",
    "        top_features = [feature_names[i] for i in top_features_ind]\n",
    "        top_words.append(top_features)\n",
    "    return top_words\n"
   ]
  },
  {
   "cell_type": "code",
   "execution_count": 95,
   "metadata": {},
   "outputs": [],
   "source": [
    "# 각 주제별 상위 단어 추출\n",
    "feature_names = count_vectorizer.get_feature_names_out()\n",
    "top_words_per_topic = get_top_words_lda(lda_model, feature_names, top_n=5)\n",
    "\n"
   ]
  },
  {
   "cell_type": "code",
   "execution_count": 96,
   "metadata": {},
   "outputs": [
    {
     "name": "stdout",
     "output_type": "stream",
     "text": [
      "Topic 0 Top Words: app, receive, samsung, ads, tv\n",
      "Topic 1 Top Words: news, coupang, delivery, eats, app\n",
      "Topic 2 Top Words: https, com, watch, face, instagram\n"
     ]
    }
   ],
   "source": [
    "# 주제별 주요 단어 출력\n",
    "for topic_num, top_words in enumerate(top_words_per_topic):\n",
    "    print(f\"Topic {topic_num} Top Words: {', '.join(top_words)}\")"
   ]
  },
  {
   "cell_type": "code",
   "execution_count": 97,
   "metadata": {},
   "outputs": [],
   "source": [
    "# 주제 기반으로 상위 카테고리 이름 생성\n",
    "def generate_category_name_from_lda(top_words):\n",
    "    return \" & \".join(top_words[:2])  # 상위 2개의 단어로 이름 생성\n"
   ]
  },
  {
   "cell_type": "code",
   "execution_count": 98,
   "metadata": {},
   "outputs": [
    {
     "name": "stdout",
     "output_type": "stream",
     "text": [
      "Topic 0 Name: app & receive\n",
      "Topic 1 Name: news & coupang\n",
      "Topic 2 Name: https & com\n"
     ]
    }
   ],
   "source": [
    "# 클러스터별 상위 카테고리 이름 생성 및 출력\n",
    "for topic_num, top_words in enumerate(top_words_per_topic):\n",
    "    category_name = generate_category_name_from_lda(top_words)\n",
    "    print(f\"Topic {topic_num} Name: {category_name}\")"
   ]
  },
  {
   "cell_type": "code",
   "execution_count": null,
   "metadata": {},
   "outputs": [],
   "source": []
  }
 ],
 "metadata": {
  "kernelspec": {
   "display_name": "Python 3",
   "language": "python",
   "name": "python3"
  },
  "language_info": {
   "codemirror_mode": {
    "name": "ipython",
    "version": 3
   },
   "file_extension": ".py",
   "mimetype": "text/x-python",
   "name": "python",
   "nbconvert_exporter": "python",
   "pygments_lexer": "ipython3",
   "version": "3.8.5"
  },
  "orig_nbformat": 4
 },
 "nbformat": 4,
 "nbformat_minor": 2
}
