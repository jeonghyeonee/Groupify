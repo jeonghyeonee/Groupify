{
 "cells": [
  {
   "cell_type": "code",
   "execution_count": null,
   "metadata": {},
   "outputs": [],
   "source": [
    "# !pip install google-play-scraper"
   ]
  },
  {
   "cell_type": "code",
   "execution_count": null,
   "metadata": {},
   "outputs": [],
   "source": [
    "from selenium import webdriver\n",
    "from selenium.webdriver.common.by import By\n",
    "import time\n",
    "import csv\n",
    "\n",
    "from google_play_scraper import app"
   ]
  },
  {
   "cell_type": "code",
   "execution_count": null,
   "metadata": {},
   "outputs": [],
   "source": [
    "cService = webdriver.ChromeService(executable_path='./chromedriver')\n",
    "driver = webdriver.Chrome(service = cService)\n",
    "\n",
    "# 크롤링할 URL\n",
    "url = 'https://play.google.com/store/apps?hl=ko'\n",
    "\n",
    "# URL로 이동\n",
    "driver.get(url)\n",
    "\n",
    "# 페이지 로딩 대기\n",
    "time.sleep(5)  # 페이지가 로드되기를 기다립니다. 필요시 시간을 조절하세요.\n",
    "\n",
    "# 사용자가 클래스 이름을 입력할 수 있도록 안내합니다.\n",
    "class_name = input(\"크롤링할 요소의 클래스 이름을 입력하세요: \")\n",
    "\n",
    "# 입력된 클래스 이름으로 요소를 찾습니다.\n",
    "elements = driver.find_elements(By.CLASS_NAME, class_name)\n",
    "\n",
    "app_infos = []\n",
    "\n",
    "for index, element in enumerate(elements):\n",
    "    new = list(element.text.split('\\n'))\n",
    "    new.pop()\n",
    "\n",
    "    a_tag = element.find_element(By.TAG_NAME, 'a')\n",
    "        \n",
    "    # a 태그의 href 속성을 가져옵니다.\n",
    "    href = a_tag.get_attribute('href')\n",
    "    app_id = href.split('=')[1]\n",
    "    \n",
    "    new.insert(0, app_id)\n",
    "    \n",
    "    result = app(\n",
    "        app_id,\n",
    "        lang='ko',\n",
    "        country='kr'\n",
    "    )\n",
    "\n",
    "    new.insert(4, result['description'])\n",
    "\n",
    "    app_infos.append(new)\n",
    "\n",
    "    # 찾은 요소들을 출력하거나 다른 작업을 수행합니다.\n",
    "    print(f\"{index + 1}: {new}\")\n",
    "\n",
    "# 원하는 작업 수행 후 드라이버를 종료합니다.\n",
    "driver.quit()"
   ]
  },
  {
   "cell_type": "code",
   "execution_count": null,
   "metadata": {},
   "outputs": [],
   "source": [
    "# CSV 파일 열기 (쓰기 모드)\n",
    "with open('app_data.csv', mode='w', newline='', encoding='utf-8') as file:\n",
    "    writer = csv.writer(file)\n",
    "    \n",
    "    # CSV 파일에 헤더 쓰기\n",
    "    writer.writerow(['app_id', 'rank', 'title', 'category', 'description', 'score'])\n",
    "    \n",
    "    for info in app_infos:\n",
    "        writer.writerow(info)"
   ]
  }
 ],
 "metadata": {
  "kernelspec": {
   "display_name": "Python 3",
   "language": "python",
   "name": "python3"
  },
  "language_info": {
   "codemirror_mode": {
    "name": "ipython",
    "version": 3
   },
   "file_extension": ".py",
   "mimetype": "text/x-python",
   "name": "python",
   "nbconvert_exporter": "python",
   "pygments_lexer": "ipython3",
   "version": "3.11.6"
  }
 },
 "nbformat": 4,
 "nbformat_minor": 2
}
